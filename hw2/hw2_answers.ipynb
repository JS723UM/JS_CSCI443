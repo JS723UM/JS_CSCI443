{
 "cells": [
  {
   "cell_type": "markdown",
   "id": "dd0affde-caeb-4791-8b32-7591bff5044e",
   "metadata": {},
   "source": [
    "# CSCI 443 Homework 2\n",
    "\n",
    "Due Feb 15, 2024 by 11:00 pm.\n",
    "\n",
    "Upload this notebook to Databricks and answer the questions in your copy of this notebook.  When you have completed the homework and wish to submit it, download your modified copy of this notebook containig your answers and then submit your modified copy to blackboard.olemiss.edu at \n",
    "\n",
    "    Content/CSCI 443 HW 2\n",
    "\n",
    "**Note regarding the midterm and final:**  The midterm and final will be written, so students will not have access to Databricks or Jupyter or Python.   The questions asked here on an exam would be computed on small datasets as are used for question 31 in Part 7 and all the problems in Parts 8 and 9.  I recommend that you answer the questions in these sections without using Python or a calculator.  The problems are not difficult, and doing them by hand may prepare you for answering such questions on the exams.\n"
   ]
  },
  {
   "cell_type": "markdown",
   "id": "fbbb9067-a6de-40a1-837d-72b807b5d9cf",
   "metadata": {},
   "source": [
    "## Part I: Types of Data\n",
    "\n",
    "Data comes in several types including\n",
    "\n",
    "* *categorical*: the data can be divided into categories like species, color,\n",
    "   garment size {S, M, L}\n",
    "   \n",
    "* *numeric*: numeric data is comprised of numbers: counts, quantites,\n",
    "   measurements.\n",
    "\n",
    "Categorical data can be further divided into *ordinal* and *nominal* data.\n",
    "\n",
    "* *ordinal* data has a natural ordering.  For example Small, Medium, Large\n",
    "  sizes can be ordered from smallest to largest.  \n",
    "\n",
    "* *nominal* data lacks a natural ordering.  For example, \"Truck\" and\n",
    "  \"Car\" are examples of nominal categorical data.  We could order the\n",
    "  words \"Car\" and \"Truck\" in alphabetical order, but ordering based\n",
    "  on spelling of the labels themselves is usually considered\n",
    "  insufficient to consider a type of data as *ordinal* since anything\n",
    "  that has an assigned label in a written language that uses an\n",
    "  alphabet can be ordered into an alphabetical ordering.\n",
    "\n"
   ]
  },
  {
   "cell_type": "markdown",
   "id": "6a7e397b-3f03-442c-8eb1-d2e413645539",
   "metadata": {},
   "source": [
    "### Problems\n",
    "\n",
    "Answer each question below.  You may edit this document to insert your answer.\n",
    "\n",
    "1) {Cat, Dog} is an examle of ordinal categorical data.\n",
    "(True or False)\n",
    "\n",
    "  A: False.  There is no natural order between Cat and Dog.  {Cat, Dog} is an example of nominal categorical data.\n",
    "\n",
    "2) The set of even numbers represents ordinal categorical data.  (True or False)\n",
    "\n",
    "   A: False.  The set of even numbers represents numeric data.  \n",
    "\n",
    "3) The set of odd numbers represents numeric data.   (True or False)\n",
    "\n",
    "   A: True.\n",
    "\n",
    "4) {January, February, March, April, May} is an example of ordinal categorical data. (True or False)\n",
    "\n",
    "   A: True\n",
    "\n",
    "5) Ice cream flavors {Vanilla, Chocolate, Strawberry, Mint} is an example of nominal categorical data. (True or False)\n",
    "\n",
    "   A: True.\n"
   ]
  },
  {
   "cell_type": "markdown",
   "id": "17df7959-5e6b-4926-9321-aec8991a17da",
   "metadata": {},
   "source": [
    "## Part 2: Random Experiments, Outcomes, and Sample Spaces.\n",
    "\n",
    "An *outcome* is the result of a single *trial* of a *random experiment.*\n",
    "For example, rolling a die is a *random experiment.*  A single roll of the die results in rolling a 3.  Rolling the die one time is a *trial* and the *outcome* is 3.\n",
    "\n",
    "The set of all possible outcomes for a *random experiment* is called a *sample space*.\n",
    "\n",
    "In a random experiment, the outcome must be uncertain before performing the experiment, with several possible outcomes.\n",
    "\n",
    "### Problems\n",
    "\n",
    "Answer each question below.  You may edit this document to insert your answer.\n",
    "\n",
    "6) I flip a coin and the result is \"heads.\"  \"Heads\" is an outcome.   (True or False)\n",
    "\n",
    "    A: True.\n",
    "\n",
    "7) The class had an average satisfaction score of 0.2.  The mean satisfaction score is an outcome. (True or False)\n",
    "\n",
    "    A:  False.  A statistic is not an outcome, because it is computed over multiple trials.\n",
    "    \n",
    "8) I flip a coin.  The set of possible outcomes is {Heads, Tails} and is thus the sample space. (True or False)\n",
    "\n",
    "    A:  True.\n",
    "\n",
    "9) The sample space for rolling a six-sided die is  {1, 2, 3, 4, 5, 6}.\n",
    "\n",
    "    A: True\n",
    "\n",
    "10) I compute the area of a square that is 1 meter on each size.  This is a random experiment.\n",
    "\n",
    "    A: False.  The result is the constant 1 square meter.  The outcome of this computation is not random.\n",
    "\n",
    "11) Drawing a card from a 52-card deck is a random experiment.\n",
    "\n",
    "    A: True.  The random experiment has multiple outcomes and the outcome is not known before a trial is performed.\n",
    "\n",
    "12) Each draw of a card from a 52-card deck is a trial.\n",
    "\n",
    "    A: True.\n",
    "    "
   ]
  },
  {
   "cell_type": "markdown",
   "id": "75477244-34b0-4f39-8006-6b418b52e932",
   "metadata": {},
   "source": [
    "## Part 3: Random Variables\n",
    "\n",
    "A *random variable* is a mapping of outcomes to the real line.  If we are given categorical data, it is useful to assign a numeric ordering so that we can do things like plotting a probability mass function where the x-axis spans the values the random variable can take.  For example, we could assign the numbers 1 through 12 for the ordinal categorical data of January through December.  For numeric data, the assignemnt is more straightforward, if the sample space of a random experiment is the numbers 1 through 4 then the randome variable maps the outcome 1 to 1 on the real line, 2 to 2 on the real line, 3 to 3 on the real line, and 4 to 4 on the real line.  When the data is numeric, it is customary to just state that the random variable takes on the value of the outcomes, e.g., we might say, \"let *X* be the random variable denoting the value of a roll of a 6-sided die.\"  The outcomes are numeric so it is understood that the outcome 1 corresponds to the random variable *X* taking on the value of 1.\n",
    "\n",
    "There are two kinds of random variables: *discrete* and *continuous*.\n",
    "\n",
    "The number of defective items in a delivery is a *discrete random variable*.  We typically use capital letters to denote a random variable.   For example we might say, \"let *X* denote the random variable for the number of defective items in a delivery.\"\n",
    "\n",
    "The heights of students in a class is a *continuous random variable* as it can take on any positive real value in the real-line within what is possible for the heights of humans.  \n",
    "\n",
    "### Problems\n",
    "\n",
    "13) The number of customers visiting a store in a day is a continuous random variable. (True or False)\n",
    "    \n",
    "    A: False, unless we do something gruesome.  For the purposes of this question I will assume we are not psychotic.\n",
    "\n",
    "14) The time between the arrivals of subway trains is a continuous random variable. (True or False)\n",
    "    \n",
    "    A: True.  \n",
    "\n",
    "15) The count of the number of heads as we flip a coin multiple times is a discrete random variable (True of False)\n",
    "\n",
    "    A: True.\n",
    "\n",
    "16) Give three examples of continuous random variables.\n",
    "\n",
    "    A: Answers will vary, but examples include the length of cars, the weights of newborns, or  people's ages.\n",
    "\n",
    "18) Give three examples of discrete random variables.\n",
    "\n",
    "    A: Answers will vary, but examples include the number of students in a class, the number of freethrow shots in a basketball game, the number characters in a file.\n",
    "    "
   ]
  },
  {
   "attachments": {},
   "cell_type": "markdown",
   "id": "ca9fa0f8-bd00-4a3b-b211-7bd81fe4302b",
   "metadata": {},
   "source": [
    "## Part 4: Events\n",
    "\n",
    "An *event* is a subset of the sample space.  When discussing random variables, an event is a subset of the values a random variable can take.  For example, names of children in a class may be a sample space.  We write each child's name on a slip of paper and place the slips in a hat.  The names are outcomes of the random expreiment of drawing a name from the hat.  Let *X* denote the random variable that takes on the value of the name of a child.  If we are being pedantic, we would say that the random variable maps each name on to the real line; thereby, assigning a number for each child's name.  If these names include Alice, Bob, Charles, and Dan.  An example event for this sample space would be drawing either Bob or Charles (or pedantically stated, the numbers for Bob or Charles).    \n",
    "\n",
    "Although we say that an event is a subset.  The event could be any subset including but not limited to all outcomes in the sample space, a single outcome in the sample space, or the null set.\n",
    "\n",
    "19) Let *E* denote rolling an even number when rolling a six-sided die.  *E* is an event.  True or False\n",
    "\n",
    "    A: True.\n",
    "    \n",
    "20) Let *X* be a random variable denoting the number of customers arriving in a day.  More than 100 customers arriving in a day is an event.  True or False.\n",
    "\n",
    "    A: True.\n",
    "\n",
    "21) Define two events over the random experiment of drawing cards from a 52-card deck.\n",
    "\n",
    "    A: Variety of answers possible.  For example, drawing a spade, or drawing face card.\n",
    "    "
   ]
  },
  {
   "cell_type": "markdown",
   "id": "db754fba-4d2b-46ad-8ac1-375f89b991f2",
   "metadata": {},
   "source": [
    "## Part 5: Distribution\n",
    "\n",
    "A *distribution* is an assignment of the probabilities for the outcomes to a random experiment.\n",
    "\n",
    "The distribution for the outcomes of rolling a 6-side dice is 1/6 for each of 1, 2, 3, 4, 5, and 6.\n",
    "\n",
    "When all of the probabilities of outcomes are equal, we say that distribution is *uniform.*  \n",
    "\n",
    "Let *X* denote the random variable that takes on the value of the roll of a six-sided die.  Because the probabilities of all the outcomes are equal, we say that random variable *X* obeys a *uniform* distribution.\n",
    "\n",
    "Let $P$ denote probability.  We say $P[X=i]$ denotes the probability that the discrete random variable *X* takes on the value $i$.\n",
    "\n",
    "Distributions have the following properties:  \n",
    "\n",
    "* The probability assigned to each outcome must be non-negative.\n",
    "\n",
    "* The probabilities of all outcomes must sum to 1.\n",
    "\n",
    "In other words, if *X* is a discrete random variable that takes on values in the sample space $S$ then\n",
    "\n",
    "$$\\sum_{i \\in S} P[X=i] = 1$$\n",
    "\n",
    "When *P* defines the probabilities of all outcomes in a discrete sample space, we call *P* a *Probability Mass Function (PMF)*. \n",
    "\n",
    "Let *X* denote the high temperatures on any given day in 2023.  *X* is a continuous random variable.\n",
    "If we can measure the high temperature with infinite precision the probability that an exact temperature occurs twice is zero.  Instead we measure the probability that the temperature takes on a range of continuous values.  For example, \n",
    "\n",
    "$$P[10^{\\circ} \\leq X \\leq 15^{\\circ}]$$.  \n",
    "\n",
    "A probability density function describes how probabilities are distributed across the range of continuous values taken on by a continuous random variable.  A probability density function *f* obeys the following:\n",
    "\n",
    "$$P[a \\leq X \\leq b] = \\int_a^b f(x) dx$$\n",
    "\n",
    "A Gaussian random variable *X* is a continuous random variable that has positive probability density for all values of *x* on the real line, meaning there is possibility of a Gaussian random variable taking on any value from -infinity to +infinity.  The PDF of a Gaussian random variable obeys the following probability density function:\n",
    "\n",
    "$$f(x) = \\frac{1}{\\sigma\\sqrt{2\\pi}} e^{\\frac{1}{2}(\\frac{x-\\mu}{\\sigma})^2}$$\n",
    "\n",
    "Here σ is the standard deviation, and μ is the mean.  A Gaussian ddistribution is completely described by only these two parameters σ and μ.\n",
    "\n",
    "### Problems\n",
    "\n",
    "22) Use matplotlib to create a bar plot of the probability mass function for the outcomes of rolling a six-sided die.   \n"
   ]
  },
  {
   "cell_type": "code",
   "execution_count": 1,
   "id": "c19f49b6-9879-42db-8256-d4547fcabed5",
   "metadata": {
    "scrolled": true
   },
   "outputs": [
    {
     "data": {
      "image/png": "[encoded data removed]",
      "text/plain": [
       "<Figure size 640x480 with 1 Axes>"
      ]
     },
     "metadata": {},
     "output_type": "display_data"
    }
   ],
   "source": [
    "import matplotlib.pyplot as plt\n",
    "x = range(1, 7)\n",
    "px = [1/6., 1/6., 1/6., 1/6., 1/6., 1/6.]\n",
    "\n",
    "plt.bar(x, px)\n",
    "\n",
    "title = \"Probability Mass Funtion for a six-sided die\"\n",
    "plt.title(title)\n",
    "\n",
    "plt.show()\n"
   ]
  },
  {
   "cell_type": "markdown",
   "id": "eebce2d6-f139-4152-9233-10a7eded7c92",
   "metadata": {},
   "source": [
    "23) Plot Gaussian probability density functions for 3 Gaussian random variables with mean μ=0 on the same plot with standard deviations σ=1, σ=2, σ=4 over the range -4 to 4.  (Hint: lookup `from scipy.stats import norm`)"
   ]
  },
  {
   "cell_type": "code",
   "execution_count": 2,
   "id": "facbd0b3-dc58-474f-8bec-9e401cb35069",
   "metadata": {},
   "outputs": [
    {
     "data": {
      "image/png": "[encoded data removed]",
      "text/plain": [
       "<Figure size 640x480 with 1 Axes>"
      ]
     },
     "metadata": {},
     "output_type": "display_data"
    }
   ],
   "source": [
    "import numpy as np\n",
    "import matplotlib.pyplot as plt\n",
    "from scipy.stats import norm\n",
    "\n",
    "# Parameters for the Gaussian distribution\n",
    "mu = 0  # mean\n",
    "sigma = 1  # standard deviation\n",
    "\n",
    "# Generate x values\n",
    "x = np.linspace(-4, 4, 1000)  # 1000 points from -4 to 4\n",
    "\n",
    "# Compute the PDF of the Gaussian distribution\n",
    "pdf_values = norm.pdf(x, mu, sigma)\n",
    "\n",
    "# Plotting the PDF\n",
    "plt.plot(x, pdf_values, label=f'σ={sigma}', color='blue')\n",
    "\n",
    "sigma = 2\n",
    "pdf_values = norm.pdf(x, mu, sigma)\n",
    "plt.plot(x, pdf_values, label=f'σ={sigma}', color='green')\n",
    "\n",
    "sigma = 4\n",
    "pdf_values = norm.pdf(x, mu, sigma)\n",
    "plt.plot(x, pdf_values, label=f'σ={sigma}', color='red')\n",
    "\n",
    "# Adding title and labels\n",
    "plt.title('PDF of Gaussian Random Variable')\n",
    "plt.xlabel('x')\n",
    "plt.ylabel('Density')\n",
    "\n",
    "# Adding a legend\n",
    "plt.legend()\n",
    "\n",
    "# Display the plot\n",
    "plt.show()\n"
   ]
  },
  {
   "cell_type": "markdown",
   "id": "1e473986-b0ad-4f52-8579-665f8501bd0d",
   "metadata": {},
   "source": [
    "24) On three new plots. For $\\mu=0, \\sigma=1$ from -4 to 4, use a Gaussian random number generator to populate a relative frequency histogram with 20 buckets using only a hundred samples (i.e., random numbers).  On the same plot, place the probability density function for a Gaussian random variable with the same mean and standard deviation.  For the second plot use 1000 samples.  For the third plot use 10000 samples.\n",
    "    \n",
    "\n",
    " "
   ]
  },
  {
   "cell_type": "code",
   "execution_count": 10,
   "id": "cef9bf2f-191d-4d48-b6f4-9f90ad9c6dec",
   "metadata": {},
   "outputs": [
    {
     "data": {
      "image/png": "[encoded data removed]",
      "text/plain": [
       "<Figure size 640x480 with 1 Axes>"
      ]
     },
     "metadata": {},
     "output_type": "display_data"
    }
   ],
   "source": [
    "# Problem 24 First plot: use Gaussian random number generator to populate a \n",
    "# relative frequency histogram with 20 buckets \n",
    "\n",
    "import numpy as np\n",
    "import matplotlib.pyplot as plt\n",
    "from scipy.stats import norm\n",
    "\n",
    "# Parameters for the Gaussian distribution\n",
    "mu = 0      # mean\n",
    "sigma = 1   # standard deviation\n",
    "size = 100  # number of random samples\n",
    "\n",
    "# Generate random data following a Gaussian distribution\n",
    "data = np.random.normal(mu, sigma, size)\n",
    "\n",
    "# Plot histogram of the data.  We set density=True so that\n",
    "# plt.hist shows a relatrive frequency histogram.\n",
    "plt.hist(data, bins=50, alpha=0.6, density=True, color='green')\n",
    "\n",
    "# Plot the PDF of the Gaussian distribution\n",
    "#xmin, xmax = plt.xlim()\n",
    "xmin, xmax = data.min(), data.max()\n",
    "x = np.linspace(xmin, xmax, 100)\n",
    "p = norm.pdf(x, mu, sigma)\n",
    "plt.plot(x, p, 'k', linewidth=2)\n",
    "\n",
    "title = \"Fit results: mu = %.2f,  std = %.2f\" % (mu, sigma)\n",
    "plt.title(title)\n",
    "\n",
    "plt.show()\n"
   ]
  },
  {
   "cell_type": "code",
   "execution_count": 12,
   "id": "b762d450-39af-41d2-a9c4-7a1645b0dfd2",
   "metadata": {},
   "outputs": [
    {
     "data": {
      "image/png": "[encoded data removed]",
      "text/plain": [
       "<Figure size 640x480 with 1 Axes>"
      ]
     },
     "metadata": {},
     "output_type": "display_data"
    }
   ],
   "source": [
    "# Problem 24 2nd plot: use Gaussian random number generator to populate a \n",
    "# relative frequency histogram with 20 buckets \n",
    "\n",
    "size = 1000  # number of random samples\n",
    "\n",
    "# Generate random data following a Gaussian distribution\n",
    "data = np.random.normal(mu, sigma, size)\n",
    "\n",
    "# Plot histogram of the data.  We set density=True so that\n",
    "# plt.hist shows a relatrive frequency histogram.\n",
    "plt.hist(data, bins=50, alpha=0.6, density=True, color='green')\n",
    "\n",
    "# Plot the PDF of the Gaussian distribution\n",
    "#xmin, xmax = plt.xlim()\n",
    "xmin, xmax = data.min(), data.max()\n",
    "x = np.linspace(xmin, xmax, 100)\n",
    "p = norm.pdf(x, mu, sigma)\n",
    "plt.plot(x, p, 'k', linewidth=2)\n",
    "\n",
    "title = \"Fit results: mu = %.2f,  std = %.2f\" % (mu, sigma)\n",
    "plt.title(title)\n",
    "\n",
    "plt.show()\n"
   ]
  },
  {
   "cell_type": "code",
   "execution_count": 13,
   "id": "b0b4963d-183f-49eb-b409-325b5b772147",
   "metadata": {},
   "outputs": [
    {
     "data": {
      "image/png": "[encoded data removed]",
      "text/plain": [
       "<Figure size 640x480 with 1 Axes>"
      ]
     },
     "metadata": {},
     "output_type": "display_data"
    }
   ],
   "source": [
    "# Problem 24 2nd plot: use Gaussian random number generator to populate a \n",
    "# relative frequency histogram with 20 buckets \n",
    "\n",
    "size = 10000  # number of random samples\n",
    "\n",
    "# Generate random data following a Gaussian distribution\n",
    "data = np.random.normal(mu, sigma, size)\n",
    "\n",
    "# Plot histogram of the data.  We set density=True so that\n",
    "# plt.hist shows a relatrive frequency histogram.\n",
    "plt.hist(data, bins=50, alpha=0.6, density=True, color='green')\n",
    "\n",
    "# Plot the PDF of the Gaussian distribution\n",
    "#xmin, xmax = plt.xlim()\n",
    "xmin, xmax = data.min(), data.max()\n",
    "x = np.linspace(xmin, xmax, 100)\n",
    "p = norm.pdf(x, mu, sigma)\n",
    "plt.plot(x, p, 'k', linewidth=2)\n",
    "\n",
    "title = \"Fit results: mu = %.2f,  std = %.2f\" % (mu, sigma)\n",
    "plt.title(title)\n",
    "\n",
    "plt.show()"
   ]
  },
  {
   "cell_type": "markdown",
   "id": "f9a18c74-5e60-499f-b359-7a009f58997b",
   "metadata": {},
   "source": [
    "24 (cont.) What happens as we increase the number of samples?\n",
    "\n",
    "A: The relative frequency histogram converges towards the PDF of a Gaussian random variable."
   ]
  },
  {
   "cell_type": "markdown",
   "id": "03de3514-f5f6-46f8-ad39-00caf1ac154e",
   "metadata": {},
   "source": [
    "25) What happens as $\\sigma$ increases?\n",
    "\n",
    "   A: Reasonable answer would be that the PDF flattens.\n",
    "\n",
    "26) Plot three Gaussian probability density functions on the same plot all with $\\sigma=1$ and each with $\\mu=1$, $\\mu=-1$, and $\\mu=3$ respectively.\n",
    "    \n",
    "\n"
   ]
  },
  {
   "cell_type": "code",
   "execution_count": 4,
   "id": "5fc8a2de-5343-49f0-8d5b-950a96456125",
   "metadata": {},
   "outputs": [
    {
     "data": {
      "image/png": "[encoded data removed]",
      "text/plain": [
       "<Figure size 640x480 with 1 Axes>"
      ]
     },
     "metadata": {},
     "output_type": "display_data"
    }
   ],
   "source": [
    "import numpy as np\n",
    "import matplotlib.pyplot as plt\n",
    "from scipy.stats import norm\n",
    "\n",
    "# Parameters for the Gaussian distribution\n",
    "mu = 1  # mean\n",
    "sigma = 1  # standard deviation\n",
    "\n",
    "# Generate x values\n",
    "x = np.linspace(-4, 6, 1000)  # 1000 points from -4 to 4\n",
    "\n",
    "# Compute the PDF of the Gaussian distribution\n",
    "pdf_values = norm.pdf(x, mu, sigma)\n",
    "\n",
    "# Plotting the PDF\n",
    "plt.plot(x, pdf_values, label=f'μ={mu}', color='blue')\n",
    "\n",
    "mu = -1  # mean\n",
    "\n",
    "pdf_values = norm.pdf(x, mu, sigma)\n",
    "plt.plot(x, pdf_values, label=f'μ={mu}', color='green')\n",
    "\n",
    "mu = 3\n",
    "\n",
    "pdf_values = norm.pdf(x, mu, sigma)\n",
    "plt.plot(x, pdf_values, label=f'μ={mu}', color='red')\n",
    "\n",
    "# Adding title and labels\n",
    "plt.title('PDF of Gaussian Random Variable')\n",
    "plt.xlabel('x')\n",
    "plt.ylabel('Density')\n",
    "\n",
    "# Adding a legend\n",
    "plt.legend()\n",
    "\n",
    "# Display the plot\n",
    "plt.show()\n"
   ]
  },
  {
   "cell_type": "markdown",
   "id": "685d82d9-e9da-4641-993b-4d95e8db479b",
   "metadata": {},
   "source": [
    "27) What happens to the probability density function as $\\mu$ increases?\n",
    "\n",
    "   A: Reasonable answer would be that the PDF shifts to the right as $\\mu$ increases."
   ]
  },
  {
   "cell_type": "markdown",
   "id": "e3f08797-84fa-4583-a965-0294e3e0f504",
   "metadata": {},
   "source": [
    "## Part 6: Distribution vs. Samples\n",
    "\n",
    "In some cases in the real-world we can know the underlying probability distribution for a random variable. For example, we can say that we know the distrubtion of probabilites for the outcomes of rolling an unbiased six-sided die, but usually in the real-world we do NOT know the *underlying distribution* that a random variable obeys.  Instead we repeat a random experiment and look at the outcomes.  The outcome of each such trial is said to be a *sample*.  With enough samples we can infer statistics of the underlying distribution such as its mean or median. \n",
    "\n",
    "For a continuous random variable, the number of times samples fall within range is called the *absolute frequency* for that range.  If we divide the number of times samples fall within a range by the total number of trials performed (i.e., the number of samples drawn from the underling distribution), we call this the *relative frequency* for that range.  In other words, the portion of samples falling within a range is its *relative frequency*. "
   ]
  },
  {
   "cell_type": "markdown",
   "id": "b9e7e6e1-045b-4bac-9c56-ad1c7de308d1",
   "metadata": {},
   "source": [
    "### Problems\n",
    "\n",
    "29. Pull the file `hw2/part6_samples1.csv` from the github class repository and upload the file to Databricks.  Plot an absolute frequency histogram of the samples in `part6_samples1.csv` (see `matplotlib.hist`).  Is the distribution symmetric?  Does the distribution have zero mean?\n",
    "What other distinguishing characteristics does this distribution have?\n",
    "\n",
    "    A: Not symmmetric and not zero mean.  Acceptable answers for other distinguishing characteristics should comment on the distribution being bimodal.\n"
   ]
  },
  {
   "cell_type": "code",
   "execution_count": 11,
   "id": "a26f291d-b0ee-4d94-ab96-f0f37a8835ee",
   "metadata": {},
   "outputs": [
    {
     "name": "stdout",
     "output_type": "stream",
     "text": [
      "   Sample Values\n",
      "0      -1.525782\n",
      "1      -2.400647\n",
      "2      -1.943501\n",
      "3      -1.567980\n",
      "4      -1.647513\n",
      "5      -1.990405\n",
      "6      -1.807311\n",
      "7      -1.435806\n",
      "8      -2.163409\n",
      "9      -1.667045\n"
     ]
    }
   ],
   "source": [
    "import pandas as pd\n",
    "\n",
    "# Load the CSV file into a DataFrame\n",
    "df = pd.read_csv('part6_samples1.csv')\n",
    "print(df.head(10))"
   ]
  },
  {
   "cell_type": "code",
   "execution_count": 12,
   "id": "edfdc9b8-5a00-4a9b-a4b8-2678a6843b2d",
   "metadata": {},
   "outputs": [
    {
     "data": {
      "image/png": "[encoded data removed]",
      "text/plain": [
       "<Figure size 640x480 with 1 Axes>"
      ]
     },
     "metadata": {},
     "output_type": "display_data"
    }
   ],
   "source": [
    "import matplotlib.pyplot as plt\n",
    "plt.hist(df['Sample Values'], bins=50, alpha=0.7, color='blue', density=True)\n",
    "\n",
    "# Adding title and labels\n",
    "plt.title('Histogram')\n",
    "plt.xlabel('Value')\n",
    "plt.ylabel('Frequency')\n",
    "\n",
    "# Display the plot\n",
    "plt.show()"
   ]
  },
  {
   "cell_type": "code",
   "execution_count": 7,
   "id": "61126c43-9e58-4e18-bbe1-651f26a7094a",
   "metadata": {},
   "outputs": [
    {
     "data": {
      "image/png": "[encoded data removed]",
      "text/plain": [
       "<Figure size 640x480 with 1 Axes>"
      ]
     },
     "metadata": {},
     "output_type": "display_data"
    }
   ],
   "source": [
    "import matplotlib.pyplot as plt\n",
    "import pandas as pd\n",
    "\n",
    "df = pd.read_csv('part6_samples1_N1.csv')\n",
    "plt.hist(df['Sample Values'], bins=50, alpha=0.7, color='blue')\n",
    "\n",
    "# Adding title and labels\n",
    "plt.title('Histogram')\n",
    "plt.xlabel('Value')\n",
    "plt.ylabel('Frequency')\n",
    "\n",
    "# Display the plot\n",
    "plt.show()"
   ]
  },
  {
   "cell_type": "code",
   "execution_count": 3,
   "id": "9c43f7a2-6a82-42c8-aaae-cdb5a69c0715",
   "metadata": {},
   "outputs": [
    {
     "data": {
      "image/png": "[encoded data removed]",
      "text/plain": [
       "<Figure size 640x480 with 1 Axes>"
      ]
     },
     "metadata": {},
     "output_type": "display_data"
    }
   ],
   "source": [
    "import matplotlib.pyplot as plt\n",
    "import pandas as pd\n",
    "\n",
    "df = pd.read_csv('part6_samples1_N2.csv')\n",
    "plt.hist(df['Sample Values'], bins=50, alpha=0.7, color='blue')\n",
    "\n",
    "# Adding title and labels\n",
    "plt.title('Histogram')\n",
    "plt.xlabel('Value')\n",
    "plt.ylabel('Frequency')\n",
    "\n",
    "# Display the plot\n",
    "plt.show()"
   ]
  },
  {
   "cell_type": "markdown",
   "id": "c976dee4-b36c-43ad-b6a6-e72a0d8eed4f",
   "metadata": {},
   "source": [
    "30. Pull the file `hw2/part6_samples2.csv` from the github class repository and upload the file to Databricks.  Plot a relative frequency histogram for the samples in `part6_sample2.csv`. Is the distribution symmetric?  \n",
    "\n",
    "A: The distribution is not symmetric. \n",
    "\n",
    "What other distinguishing characteristics does this distribution have?\n",
    "\n",
    "A: Any of the following observations would b sufficient: \n",
    "- The distribution appears to be upper bounded meaning the PDF is zero above 2.\n",
    "- Due the tail to the left, the distributions is also left skewed.\n",
    "- It looks like a shifted, reversed exponential.\n",
    "\n",
    "There may be other interesting features that would qualify as valid answers, I leave it up to Linan to discern whether the answers are reasonable."
   ]
  },
  {
   "cell_type": "code",
   "execution_count": 29,
   "id": "30b9131d-36a1-4e77-82d6-57eb914a130a",
   "metadata": {},
   "outputs": [
    {
     "name": "stdout",
     "output_type": "stream",
     "text": [
      "   Sample Values\n",
      "0       1.985935\n",
      "1       1.137387\n",
      "2       1.301050\n",
      "3       1.015658\n",
      "4       1.343986\n",
      "5       1.298716\n",
      "6       1.609632\n",
      "7       1.463648\n",
      "8       1.468960\n",
      "9       0.080247\n"
     ]
    },
    {
     "data": {
      "image/png": "[encoded data removed]",
      "text/plain": [
       "<Figure size 640x480 with 1 Axes>"
      ]
     },
     "metadata": {},
     "output_type": "display_data"
    }
   ],
   "source": [
    "import matplotlib.pyplot as plt\n",
    "import pandas as pd\n",
    "\n",
    "df = pd.read_csv('part6_samples2.csv')\n",
    "print(df.head(10))\n",
    "plt.hist(df['Sample Values'], bins=50, alpha=0.7, color='blue', density=True)\n",
    "\n",
    "# Adding title and labels\n",
    "plt.title('Histogram')\n",
    "plt.xlabel('Value')\n",
    "plt.ylabel('Frequency')\n",
    "\n",
    "# Display the plot\n",
    "plt.show()"
   ]
  },
  {
   "cell_type": "markdown",
   "id": "19629afa-815c-497e-9b21-220dead4f6ab",
   "metadata": {},
   "source": [
    "## Part 7: Range, Means, Medians, Trimmed Means, Percentiles\n",
    "\n",
    "31. Given the samples\n",
    "  $$S = {-1, 3, -4, 2, 6}$$\n",
    "\n",
    "  - (a) What is the min of the samples in set *S*?\n",
    "\n",
    "    $$-4$$\n",
    "    \n",
    "  - (b) What is the max of the samples in set *S*?\n",
    "\n",
    "    $$6$$\n",
    "    \n",
    "  - (c) What is the range of the samples in set $S$?\n",
    "\n",
    "    $$6 - (-4) = 10$$\n",
    "    \n",
    "  - (d) What is the mean of the samples in set $S$?\n",
    "\n",
    "    $$\\frac{1}{n}\\sum_{i=1}^n x_i = \\frac{1}{5}(-1 + 3 -4 + 2 + 6) = \\boxed{\\frac{6}{5}}$$\n",
    "    \n",
    "  - (e) What is the median of the samples in set $S$?\n",
    "\n",
    "    First put the samples into increasing order.\n",
    "\n",
    "    $$[-4, -1, 2, 3, 6]$$\n",
    "\n",
    "    Since there are an odd number of samples, truncate all samples below the middle sample\n",
    "    and all samples above middle sample leaving only the median.\n",
    "    \n",
    "    $$\\cancel{-4}, \\cancel{-1}, 2, \\cancel{3}, \\cancel{6}$$\n",
    "\n",
    "    The median is 2.\n",
    "    \n",
    "  - (f) What is the 20th percentile of the samples in set $S$ using linear interpolation?\n",
    "\n",
    "    $$r = \\frac{p}{100}\\cdot (n+1) = \\frac{20}{100} \\cdot (5+1) = .2 * 6 = 1.2$$\n",
    "\n",
    "    $$i = \\lfloor r \\rfloor = 1$$\n",
    "\n",
    "    $$\\alpha = .2$$\n",
    "\n",
    "    $$x_{(1)} \\cdot (1-\\alpha) + x_({2}) \\cdot \\alpha = 0.8 \\cdot -4  + 0.2 \\cdot -1 = -3.2 - 0.2 = \\boxed{-3.4}$$\n",
    "\n",
    "32. Repeat (a)-(f) for the samples in `hw2/part6_samples1.csv`\n",
    "  (d) What is the mean of the samples in set $S$?\n",
    "\n",
    "    $$\\frac{1}{n}\\sum_{i=1}^n x_i = \\frac{1}{5}(-1 + 3 -4 + 2 + 6) = \\boxed{\\frac{6}{5}}$$\n",
    "    \n",
    "  - (e) What is the median of the samples in set $S$?\n",
    "\n",
    "    First put the samples into increasing order.\n",
    "\n",
    "    $$[-4, -1, 2, 3, 6]$$\n",
    "\n",
    "    Since there are an odd number of samples, truncate all samples below the middle sample\n",
    "    and all samples above middle sample leaving only the median.\n",
    "    \n",
    "    $$\\cancel{-4}, \\cancel{-1}, 2, \\cancel{3}, \\cancel{6}$$\n",
    "\n",
    "    The median is 2.\n",
    "    \n",
    "  - (f) What is the 20th percentile of the samples in set $S$ using linear interpolation?\n",
    "\n",
    "    $$r = \\frac{p}{100}\\cdot (n+1) = \\frac{20}{100} \\cdot (5+1) = .2 * 6 = 1.2$$\n",
    "\n",
    "    $$i = \\lfloor r \\rfloor = 1$$\n",
    "\n",
    "    $$\\alpha = .2$$\n",
    "\n",
    "    $$x_{(1)} \\cdot (1-\\alpha) + x_({2}) \\cdot \\alpha = 0.8 \\cdot -4  + 0.2 \\cdot -1 = -3.2 - 0.2 = \\boxed{-3.4}$$\n",
    "    \n",
    "  - (g) What is the 10% trimmed mean of the samples in `hw2/part6_samples1.csv`\n",
    "\n",
    "33. Repeat (a)-(f) for the samples *S* in `hw2/part6_samples1.csv`?\n",
    "\n",
    "  - (a) What is the min of the samples in set *S*?\n",
    "\n",
    "    see code below\n",
    "    \n",
    "  - (b) What is the max of the samples in set *S*?\n",
    "\n",
    "    see code below\n",
    "    \n",
    "  - (c) What is the range of the samples in set $S$?\n",
    "\n",
    "    see code below\n",
    "    \n",
    "  - (d) What is the mean of the samples in set $S$?\n",
    "\n",
    "    see code below\n",
    "    \n",
    "  - (e) What is the median of the samples in set $S$?\n",
    "    see code vbelow\n",
    "\n",
    "  - (g) What is the 10% trimmed mean of the samples in `hw2/part6_samples2.csv`\n"
   ]
  },
  {
   "cell_type": "code",
   "execution_count": 35,
   "id": "44e8fc9d-a897-4528-8d91-e593916de66b",
   "metadata": {},
   "outputs": [
    {
     "name": "stdout",
     "output_type": "stream",
     "text": [
      "(a) min= -3.6864971439018497\n",
      "(b) max= 6.61209700333394\n",
      "(c) range=10.29859414723579\n",
      "(d) mean=0.5113231708255138\n",
      "(e) median=-0.37608192473480073\n"
     ]
    }
   ],
   "source": [
    "# Problem 33.\n",
    "import pandas as pd\n",
    "df = pd.read_csv(\"part6_samples1.csv\")\n",
    "# print(df.head(4))\n",
    "\n",
    "column = df[\"Sample Values\"]\n",
    "print(\"(a) min=\", column.min())\n",
    "print(\"(b) max=\", column.max())\n",
    "# range = column.max() - column.min()\n",
    "range = column.max() - column.min()\n",
    "print(f\"(c) range={range}\")\n",
    "print(f\"(d) mean={column.mean()}\")\n",
    "print(f\"(e) median={column.median()}\")\n",
    "#HERE      \n",
    "            "
   ]
  },
  {
   "cell_type": "markdown",
   "id": "e722c7b8-1af0-4560-bf59-992f903324e5",
   "metadata": {},
   "source": [
    "## Part 8: Effects of outliers on mean, median, percentile, and trimmed mean.\n",
    "\n",
    "Here we consider the effects of outliers on measures of central tendency. "
   ]
  },
  {
   "cell_type": "markdown",
   "id": "e9853a6f-9d47-4fe8-bc50-831572d99d57",
   "metadata": {},
   "source": [
    "\n",
    "34. Let $S = {3, 8, 6, 9, -1, 10, 1000, 7, 7, 0}$.  When computing these statistics, consider the possibility that the sample with the value 1000 is a spurious error.\n",
    "\n",
    "    - (a) Compute the mean of *S*.\n",
    "\n",
    "      *A:* let *x_i* represent a sample in *S*.  There are 10 samples in *S*.  Note that *S* is not a\n",
    "      mathematical set but rather a statistical set.  In statistics a sample set is allowed to contain\n",
    "      more than one instance of a value.  In mathematics this would be called a bag.  The mean is given by\n",
    "      \n",
    "      $$\n",
    "      \\bar{x} = \\frac{1}{n} \\sum_{i=1}^n x_i = \\frac{1}{10} \\big( 3 + 8 + 6 + 9 -1 + 10 + 1000 + 7 + 7 + 0  \\big) = \\frac{1049}{10}\n",
    "      $$\n",
    "\n",
    "      \\begin{equation}\n",
    "      \\boxed{\\bar{x} = 104.9}\n",
    "      \\end{equation}\n",
    "\n",
    "Below we compute the mean using Python and numpy.  If you use the Python set to contain the numbers then\n",
    "the set will make all members of the set unique in accordance with a mathematical set.  This demonstrates\n",
    "how a sample set is NOT a mathematical set but instead a mathematical bag.\n",
    "\n",
    "When the mean is computed across a list, NumPy gives the expected result.\n"
   ]
  },
  {
   "cell_type": "code",
   "execution_count": 14,
   "id": "0aa5066e-b399-4f81-a839-ffab2547885e",
   "metadata": {},
   "outputs": [
    {
     "name": "stdout",
     "output_type": "stream",
     "text": [
      "Mean of a Python set {0, 3, 6, 7, 8, 9, 10, 1000, -1} converted to a list 115.77777777777777\n",
      "Mean of a Python list [3, 8, 6, 9, -1, 10, 1000, 7, 7, 0] is 104.9\n"
     ]
    }
   ],
   "source": [
    "import numpy as np \n",
    "S = {3, 8, 6, 9, -1, 10, 1000, 7, 7, 0}\n",
    "# print(f\"Mean of a Python set {S} is {np.mean(S)}\")  # This crashes\n",
    "print(f\"Mean of a Python set {S} converted to a list {np.mean(list(S))}\")\n",
    "S = [3, 8, 6, 9, -1, 10, 1000, 7, 7, 0]\n",
    "print(f\"Mean of a Python list {S} is {np.mean(S)}\")\n"
   ]
  },
  {
   "cell_type": "markdown",
   "id": "f8f5b4ad-f1da-479e-8079-56b95fb02c72",
   "metadata": {},
   "source": []
  },
  {
   "cell_type": "markdown",
   "id": "563f4564-1e25-4557-b141-08eee0e8d451",
   "metadata": {},
   "source": [
    "34. (cont.)\n",
    "    - (b) Compute the median of *S*.  What is the difference between the mean and the median.\n",
    "\n",
    "*A:* To compute the median we order the samples in *S*.\n",
    "\n",
    "$$[-1, 0, 3, 6, 7, 7, 8, 9, 10, 1000]$$\n",
    "\n",
    "Cross an equal number of samples starting from the left and the right until there are only\n",
    "two left if the number of samples in the set is even or 1 sample if the number of samples\n",
    "in the set is odd.\n",
    "      \n",
    "$$\n",
    "          [\\cancel{-1}, \\cancel{0}, \\cancel{3}, \\cancel{6}, 7, 7,\n",
    "            \\cancel{8}, \\cancel{9}, \\cancel{10}, \\cancel{1000}]\n",
    "$$\n",
    "      \n",
    "We are left with two sevens.  The median is the mean of these two samples.\n",
    "Since they are equal\n",
    "\n",
    "$$\n",
    "    \\text{median } S = \\frac{7+7}{2} = 7\n",
    "$$\n",
    "\n",
    "$$\n",
    "    \\boxed{\\text{median } S = 7}\n",
    "$$\n",
    "\n",
    "Let's see if Python agrees.\n"
   ]
  },
  {
   "cell_type": "code",
   "execution_count": 16,
   "id": "baa2335c-6b73-44ae-ba59-591b28f31806",
   "metadata": {},
   "outputs": [
    {
     "name": "stdout",
     "output_type": "stream",
     "text": [
      "median of a [3, 8, 6, 9, -1, 10, 1000, 7, 7, 0] is 7.0\n"
     ]
    }
   ],
   "source": [
    "import numpy as np\n",
    "S = [3, 8, 6, 9, -1, 10, 1000, 7, 7, 0]\n",
    "print(f\"median of a {S} is {np.median(S)}\")"
   ]
  },
  {
   "cell_type": "markdown",
   "id": "d246cdc0-fa5a-4340-944e-45d6b3472d09",
   "metadata": {},
   "source": [
    "Appears NumPy agrees with our by-hand calculation."
   ]
  },
  {
   "cell_type": "markdown",
   "id": "c6d774c0-c36f-4bc9-8ac4-798b27f4bf12",
   "metadata": {},
   "source": [
    "34. (cont.)\n",
    "    - (c) Does this distribution exhibit left skew, right skew, or no skew?  Explain.\n",
    "\n",
    "\n",
    "*A:* It exhibits right skew because the mean is greater than the median.\n"
   ]
  },
  {
   "cell_type": "markdown",
   "id": "87725ef6-1ec2-4128-9456-d341159382d1",
   "metadata": {},
   "source": [
    "\n",
    "34. (cont.)\n",
    "    - (d) Compute 10% trimmed mean for $S$.  How does this compare to the median?\n",
    "   \n",
    "*A:* To compute the trimmed mean, we once again start by ordering the samples.\n",
    "\n",
    "$$[-1, 0, 3, 6, 7, 7, 8, 9, 10, 1000]$$\n",
    "\n",
    "To compute the *p%* trimmed mean, we remove the top *p%* of the samples and\n",
    "the smallest *p%* of the samples.\n",
    "   \n",
    "To compute the number *m* of samples to remove from a sample set *S*:\n",
    "   \n",
    "$$m = \\text{round}( \\frac{p}{100} \\cdot n ) = \\text{round }(\\frac{10}{100} \\cdot 10) = 1$$\n",
    "\n",
    "We thus remove the smallest and largest values in *S* and then compute the sample mean\n",
    "of the remaining samples.\n",
    "\n",
    "$$\\bar{x} = \\frac{1}{8} \\big( 0 + 3 + 6 + 7 + 7 + 8 + 9 + 10 ) = \\frac{1}{8} \\cdot 50$$\n",
    "\n",
    "$$\\boxed{\\text{trimmed }\\bar{x} = 6.25}$$\n"
   ]
  },
  {
   "cell_type": "code",
   "execution_count": 19,
   "id": "67a8d960-bb20-4f51-8715-316672c1dd73",
   "metadata": {},
   "outputs": [
    {
     "name": "stdout",
     "output_type": "stream",
     "text": [
      "10% trimmed mean of [3, 8, 6, 9, -1, 10, 1000, 7, 7, 0] is 6.25\n"
     ]
    }
   ],
   "source": [
    "from scipy import stats\n",
    "S = [3, 8, 6, 9, -1, 10, 1000, 7, 7, 0]\n",
    "\n",
    "print(f\"10% trimmed mean of {S} is {stats.trim_mean(S, 0.1)}\")"
   ]
  },
  {
   "cell_type": "markdown",
   "id": "2bcef1b7-f305-491a-828f-610deec1cc9c",
   "metadata": {},
   "source": [
    "34. (cont.)\n",
    "    - (e) Compute the 80th percentile using linear interpolation.\n",
    "   \n",
    "        *A:* \n",
    "\n",
    "        Let $$x_{(i)}$$ denote the sample with rank *i* in *S*.  The rank\n",
    "        is the position of the sample in set *S* when the samples have been\n",
    "        sorted into increasing order.  The smallest samples has rank equal to 1.\n",
    "\n",
    "        | Rank |  1 | 2 | 3 | 4 | 5 | 6 | 7 | 8 | 9 | 10 |\n",
    "        |------|----|---|---|---|---|---|---|---|---|----|\n",
    "        | Sample | -1 | 0 | 3 | 6 | 7 | 7 | 8 | 9 | 10 | 1000 |\n",
    "\n",
    "\n",
    "        To compute the *p%* percentile, we first compute the rank $r$\n",
    "        corresponding to *p%*. \n",
    "\n",
    "        $$r = \\frac{p}{100} \\cdot (n+1) = \\frac{80}{100} \\cdot 11 = 8.8$$\n",
    "\n",
    "        Since the rank is not an integer, we must interpolate between the\n",
    "        values at indices 8 and 9.\n",
    "\n",
    "        $$S' = [-1, 0, 3, 6, 7, 7, 8, 9, 10, 1000]$$\n",
    "\n",
    "\n",
    "\n",
    "         The value of the 80th percentile is denoted\n",
    "   \n",
    "         $$P_{80}$$\n",
    "\n",
    "        Note that $i$ is 1 indexed as is traditional with math.\n",
    "      \n",
    "        The value is \n",
    "        \n",
    "        $$P_{80} = x_{(8)} \\cdot (1-0.8) + x_{(9)} \\cdot(0.8) = 9 \\cdot 0.2 + 10 \\cdot 0.8$$\n",
    "\n",
    "        $$P_{80} = 9.8$$\n",
    "\n",
    "        Let's confirm using NumPy.\n",
    "\n"
   ]
  },
  {
   "cell_type": "code",
   "execution_count": 97,
   "id": "335a56d2-b8a5-43d7-8333-6e35e29d9faa",
   "metadata": {},
   "outputs": [
    {
     "data": {
      "text/plain": [
       "9.2"
      ]
     },
     "execution_count": 97,
     "metadata": {},
     "output_type": "execute_result"
    }
   ],
   "source": [
    "import numpy as np\n",
    "S = [3, 8, 6, 9, -1, 10, 1000, 7, 7, 0]\n",
    "np.percentile(S, 80)"
   ]
  },
  {
   "cell_type": "markdown",
   "id": "5bb2d6a8-4017-4dea-ac9f-83317c011689",
   "metadata": {},
   "source": [
    "Interesting, we see a difference between numpy and the linear interpolation method I used.\n",
    "NumPy supports more than one method for computing the percentile.  Keep in mind that \n",
    "percentile is trying to estimate the percentile of the underyling distribution from a sample.\n",
    "The underlying distribution is not known.\n"
   ]
  },
  {
   "cell_type": "code",
   "execution_count": 31,
   "id": "bdc7bec2-fa05-4baf-a701-e47e0823c981",
   "metadata": {},
   "outputs": [
    {
     "name": "stdout",
     "output_type": "stream",
     "text": [
      "80th percentile using\n",
      " * linear interp: 9.2\n",
      " * lower: 9\n",
      " * higher: 10\n",
      " * midpoint: 9.5\n",
      " * nearest: 9\n"
     ]
    }
   ],
   "source": [
    "print(f\"80th percentile using\\n * linear interp: {np.percentile(S, 80, method='linear')}\")\n",
    "print(f\" * lower: {np.percentile(S, 80, method='lower')}\")\n",
    "print(f\" * higher: {np.percentile(S, 80, method='higher')}\")\n",
    "print(f\" * midpoint: {np.percentile(S, 80, method='midpoint')}\")\n",
    "print(f\" * nearest: {np.percentile(S, 80, method='nearest')}\")"
   ]
  },
  {
   "cell_type": "markdown",
   "id": "be4c820f-4ffd-495c-9a9e-560b5ad1d3f1",
   "metadata": {},
   "source": [
    "None of the methods tried equals 9.8.  Why?  Let's use python to compute the interpolated percentile without using numpy's percentile method."
   ]
  },
  {
   "cell_type": "code",
   "execution_count": 54,
   "id": "8b8eb6ba-0c98-4d32-94ef-9a81c0321e02",
   "metadata": {},
   "outputs": [
    {
     "name": "stdout",
     "output_type": "stream",
     "text": [
      "80th percentile using linear interp method 1: 9.8\n",
      "80th percentile using linear interp method 1: 9.2\n"
     ]
    }
   ],
   "source": [
    "from math import ceil, floor\n",
    "p = 80\n",
    "S = sorted(S)\n",
    "n = len(S)\n",
    "\n",
    "def percentile_method1(S, p):\n",
    "    SS = sorted(S)\n",
    "    r = p / 100. * (n + 1)\n",
    "    i = floor(r) - 1       # subtract 1 to be zero indexed.\n",
    "    x1 = SS[i]\n",
    "    x2 = SS[i+1]\n",
    "    alpha = r - floor(r)   # fractional part of r.\n",
    "    return (1-alpha) * x1 + alpha * x2\n",
    "\n",
    "def percentile_method2(S, p):\n",
    "    i = p / 100. * (n - 1)\n",
    "    x1 = S[floor(i)]\n",
    "    x2 = S[ceil(i)]\n",
    "    alpha = i - floor(i)  # alpha is the fractional part of i.\n",
    "    return (1-alpha) * x1 + alpha * x2\n",
    "\n",
    "print(f\"{p}th percentile using linear interp method 1: {percentile_method1(S, p)}\")\n",
    "print(f\"{p}th percentile using linear interp method 1: {percentile_method2(S, p)}\")"
   ]
  },
  {
   "cell_type": "markdown",
   "id": "be0fc9d4-3134-42be-9457-0e87e59ee0ba",
   "metadata": {},
   "source": [
    "The above reveals that numpy's linear interpolation method differs from the method \n",
    "I used for interpolation.  I did it is the way I was taught.  I looked online and\n",
    "found examples of people doing it the same way I did it.  I will accept either way\n",
    "as correct for this homework, but going forward I will specify which method I\n",
    "expect.  NOTE: Any problem in this homework that uses percentiles will be considered\n",
    "correct if it properly uses either method 1 or method 2 linear interpolation."
   ]
  },
  {
   "cell_type": "markdown",
   "id": "c797b5e7-64e4-4dec-a3d7-ddc0383fba9d",
   "metadata": {},
   "source": [
    "34.\n",
    "    - (f) Compute the 90th percentile using linear interpolation.\n",
    "   \n",
    "        *A:* To compute the *90%* percentile, we first compute the rank $r$.\n",
    "\n",
    "        $$r = \\frac{p}{100} \\cdot (n+1) = \\frac{90}{100} \\cdot 11 = 9.9$$\n",
    "\n",
    "        $$\\alpha = r - \\lfloor r \\rfloor = 0.9$$\n",
    "      \n",
    "        The value is \n",
    "        \n",
    "        $$P_{90} = x_{(9)} \\cdot (1-0.9) + x_{(10)} \\cdot(0.9) = 10 \\cdot 0.1 + 1000 \\cdot 0.9 = 1 + 900$$\n",
    "\n",
    "        $$\\boxed{P_{90} = 901}$$"
   ]
  },
  {
   "cell_type": "code",
   "execution_count": 62,
   "id": "f4a08efa-fd9a-45a9-a608-47d910e45564",
   "metadata": {},
   "outputs": [
    {
     "name": "stdout",
     "output_type": "stream",
     "text": [
      "percentile using linear (method 1): 901.0000000000003\n",
      "percentile using linear (method 2, i.e., numpy): 108.99999999999964\n"
     ]
    }
   ],
   "source": [
    "import numpy as np\n",
    "S = [3, 8, 6, 9, -1, 10, 1000, 7, 7, 0]\n",
    "print(f\"percentile using linear (method 1): {percentile_method1(S, 90)}\")\n",
    "print(f\"percentile using linear (method 2, i.e., numpy): {np.percentile(S, 90, method='linear')}\")\n",
    "      "
   ]
  },
  {
   "cell_type": "markdown",
   "id": "520e40aa-9ab7-4961-96e7-32330834705d",
   "metadata": {},
   "source": [
    "The difference between the two methods of computing the percentile differ wildly because \n",
    "of the effect of the outlier sample 1000."
   ]
  },
  {
   "cell_type": "markdown",
   "id": "118b3cf2-5027-49d8-b370-c056cd8012af",
   "metadata": {},
   "source": [
    "35. Reduce the sample in $S$ with value 1000 to 100.  Recompute mean, median, 80th percentile, and 90th percentile.  What can we say about computing percentiles near the extrema (near 0th percentile or 100th percentile) when there may be outliers that are not part of the natural variation (i.e., caused by error)?\n",
    "\n",
    "    - Compute the mean of *S*.\n",
    "\n",
    "    *A:*\n",
    "\n",
    "    $$\\bar{x} = \\frac{1}{n} \\sum_{i=1}^n x_i $$\n",
    "    $$\\bar{x} = \\frac{1}{10} \\big( 3 + 8 + 6 + 9 -1 + 10 + 100 + 7 + 7 + 0  \\big) = \\frac{149}{10}$$\n",
    "\n",
    "    $$\\boxed{\\bar{x} = 14.9}$$\n",
    "  "
   ]
  },
  {
   "cell_type": "code",
   "execution_count": 60,
   "id": "14548b6d-1712-41e6-9f70-86a4fa58b47c",
   "metadata": {},
   "outputs": [
    {
     "data": {
      "text/plain": [
       "14.9"
      ]
     },
     "execution_count": 60,
     "metadata": {},
     "output_type": "execute_result"
    }
   ],
   "source": [
    "import numpy as np\n",
    "S = [3, 8, 6, 9, -1, 10, 100, 7, 7, 0]\n",
    "np.mean(S)"
   ]
  },
  {
   "cell_type": "markdown",
   "id": "f4dac0ec-0af3-435d-b758-87e399995fa8",
   "metadata": {},
   "source": [
    "35. (cont.)\n",
    "    - 80th percentile\n",
    "      \n",
    "    *A:*\n",
    "\n",
    "    $$r = \\frac{p}{100} \\cdot (n+1) = \\frac{80}{100} \\cdot 11 = 8.8$$\n",
    "\n",
    "    $$\\alpha = r - \\lfloor r \\rfloor = 0.8$$\n",
    "              \n",
    "    $$P_{80} = x_{(8)} \\cdot (1-0.8) + x_{(9)} \\cdot(0.8) = 9 \\cdot 0.2 + 10 \\cdot 0.8$$\n",
    "\n",
    "    $$\\boxed{P_{80} = 9.8}$$\n"
   ]
  },
  {
   "cell_type": "code",
   "execution_count": 64,
   "id": "63481c55-d783-447e-806f-a3fb1b3fadce",
   "metadata": {},
   "outputs": [
    {
     "data": {
      "text/plain": [
       "9.2"
      ]
     },
     "execution_count": 64,
     "metadata": {},
     "output_type": "execute_result"
    }
   ],
   "source": [
    "import numpy as np\n",
    "S = [3, 8, 6, 9, -1, 10, 100, 7, 7, 0]\n",
    "np.percentile(S, 80)"
   ]
  },
  {
   "cell_type": "markdown",
   "id": "b58f6b7b-cb36-4712-afc0-3a38ce949dc1",
   "metadata": {},
   "source": [
    "35. (cont.)\n",
    "    - 90th percentile\n",
    "\n",
    "    *A:*\n",
    "\n",
    "    $$r = \\frac{p}{100} \\cdot (n+1) = \\frac{90}{100} \\cdot 11 = 9.9$$\n",
    "\n",
    "    $$\\alpha = r - \\lfloor r \\rfloor = 0.9$$\n",
    "              \n",
    "    $$P_{80} = x_{(8)} \\cdot (1-0.9) + x_{(9)} \\cdot(0.9) = 9 \\cdot 0.2 + 10 \\cdot 0.8$$\n",
    "\n",
    "    $$\\boxed{P_{80} = 9.8}$$\n",
    "\n",
    "      "
   ]
  },
  {
   "cell_type": "code",
   "execution_count": 65,
   "id": "ab29ffdd-565f-4c2a-8151-1038855ec913",
   "metadata": {},
   "outputs": [
    {
     "name": "stdout",
     "output_type": "stream",
     "text": [
      "percentile using linear (method 1): 91.00000000000003\n",
      "percentile using linear (method 2, i.e., numpy): 18.999999999999968\n"
     ]
    }
   ],
   "source": [
    "print(f\"percentile using linear (method 1): {percentile_method1(S, 90)}\")\n",
    "print(f\"percentile using linear (method 2, i.e., numpy): {np.percentile(S, 90, method='linear')}\")\n",
    "\n",
    "     \n",
    "     "
   ]
  },
  {
   "cell_type": "markdown",
   "id": "f6734dd1-d2d6-4704-a24b-87eab711e3d5",
   "metadata": {},
   "source": [
    "35. (cont.) What can we say about computing percentiles near the extrema (near 0th percentile or 100th percentile) when there may be outliers that are not part of the natural variation (i.e., caused by error)?\n",
    "\n",
    "A: When near 0th or 100th percentile, the statistics become far more sensitive to outliers.  More specifically, large outliers affect percentiles near the 100th percentile, and small outliers affect percentiles near the 0th percentile."
   ]
  },
  {
   "cell_type": "raw",
   "id": "ecceae9a-760a-4f53-9047-b9be6c32d366",
   "metadata": {},
   "source": [
    "## Part 9: Mean Absolute Deviation, Sample Standard Deviation, Inter-Quartile Range (IQR)\n",
    "\n",
    "Consider the same sample set $S$ as used in Part 8."
   ]
  },
  {
   "cell_type": "code",
   "execution_count": 69,
   "id": "0ffb5c51-721b-4377-a64e-aab8ca05f261",
   "metadata": {},
   "outputs": [],
   "source": [
    "import numpy as np\n",
    "S = [3, 8, 6, 9, -1, 10, 1000, 7, 7, 0]"
   ]
  },
  {
   "cell_type": "markdown",
   "id": "908189aa-279f-4fe7-87dc-05b36473ce05",
   "metadata": {},
   "source": [
    "36. Compute the following metrics.\n",
    "    - (a) Compute the mean absolute deviation of $S$.\n",
    "\n",
    "    MAD can mean either Mean Absolute Deviation or Median Abs0lute Deviation depending which statistician or text\n",
    "    you are using.  I will avoid using the achronym MAD to avoid the confusion.\n",
    "    \n",
    "    $$\\bar{x} = 104.9$$\n",
    "    $$m = \\frac{1}{n} \\sum_{i=1}^n |\\bar{x} - x_{(i)}|$$\n",
    "    $$m = \\frac{1}{10} \\bigg(|104.9-3| + |104.9-8| + |104.9-6| + ... + |104.9-0|\\bigg)$$\n",
    "    $$m = \\frac{1}{10}(101.9 + 96.9 + 98.9 + 95.9 + 105.9 + 94.9 + 895.1 + 97.9 + 97.9 + 104.9) = \\frac{1,790.2}{10}$$\n",
    "    $$\\boxed{m=179.02}$$"
   ]
  },
  {
   "cell_type": "code",
   "execution_count": 76,
   "id": "4874cb1b-44dd-40cd-b214-3aaf37d1b139",
   "metadata": {},
   "outputs": [
    {
     "name": "stdout",
     "output_type": "stream",
     "text": [
      "mean_abs_deviation([3, 8, 6, 9, -1, 10, 1000, 7, 7, 0])=179.02000000000004\n",
      "numpy array mean_abs_deviation: 179.02000000000004\n"
     ]
    }
   ],
   "source": [
    "def mean_abs_deviation(S):\n",
    "    barx = np.mean(S)\n",
    "    m = 0.\n",
    "    for x in S:\n",
    "        m += abs(barx - x)\n",
    "    return m/len(S)\n",
    "    \n",
    "print(f\"mean_abs_deviation({S})={mean_abs_deviation(S)}\")\n",
    "\n",
    "# We can implement this using numpy's vector operations to speed it \n",
    "# up by doing the following.  Although in this case, the size of\n",
    "# the set is small enough that the vectorized version would likely\n",
    "# not run faster.\n",
    "SS = np.array(S)\n",
    "print(f\"numpy array mean_abs_deviation: {np.mean(abs(SS-np.mean(SS)))}\")\n"
   ]
  },
  {
   "cell_type": "markdown",
   "id": "70ba2e2a-3275-487e-a9cc-144d0b157c95",
   "metadata": {},
   "source": [
    "36. (cont.)\n",
    "    - (b) Compute the sample variance and sample standard deviation.   Assume that the samples are all measures of temperature in $$^\\circ\\mathrm{C}$$.  Thus the unit of the samples is $$^\\circ\\mathrm{C}$$.  What is the unit of variance?  What is the unit of the standard deviation?  Why might people find standard deviation a more understandable unit of dispersion than variance? (This last question is food for thought and will not be graded)\n",
    "\n",
    "    $$\\sigma^2 = \\frac{1}{n-1}\\sum_{i=1}^n (x - \\bar{x})^2$$\n"
   ]
  },
  {
   "cell_type": "code",
   "execution_count": 84,
   "id": "4752e747-493a-4c43-8fde-bc55e83ae6e3",
   "metadata": {},
   "outputs": [
    {
     "name": "stdout",
     "output_type": "stream",
     "text": [
      "python computation of variance: 98927.65555555557\n",
      "python computation of std dev: 314.5276705721701\n",
      "statistics package compuation of variance: 98927.65555555555\n",
      "statistics package computation of stddev: 314.5276705721701\n",
      "numpy's computation of variance: 89034.89\n",
      "numpy's computation of std dev: 298.38714784655184\n"
     ]
    }
   ],
   "source": [
    "import numpy as np\n",
    "import math\n",
    "import statistics\n",
    "S = [3, 8, 6, 9, -1, 10, 1000, 7, 7, 0]\n",
    "SS = np.array(S)\n",
    "\n",
    "# computed without numpy.\n",
    "def variance(S):\n",
    "    xbar = sum(S)/len(S)\n",
    "    sumsq = 0.0\n",
    "    for x in S:\n",
    "        sumsq += (x - xbar)*(x - xbar)\n",
    "    return 1/(len(S)-1) * sumsq\n",
    "\n",
    "def stddev(S):\n",
    "    return math.sqrt(variance(S))\n",
    "\n",
    "print(f\"python computation of variance: {variance(S)}\")\n",
    "print(f\"python computation of std dev: {stddev(S)}\") \n",
    "print(f\"statistics package compuation of variance: {statistics.variance(S)}\")\n",
    "print(f\"statistics package computation of stddev: {statistics.stdev(S)}\")\n",
    "print(f\"numpy's computation of variance: {np.var(SS)}\")\n",
    "print(f\"numpy's computation of std dev: {np.std(SS)}\")"
   ]
  },
  {
   "cell_type": "markdown",
   "id": "a367e29e-106c-4d50-88f3-f7cd45c5d445",
   "metadata": {},
   "source": [
    "Again we have a difference between our implementations of statistics.  Or do we?\n",
    "This is a case where one must be careful of how we use libraries.  By default\n",
    "numpy assumes population variance and population standard deviation."
   ]
  },
  {
   "cell_type": "code",
   "execution_count": 85,
   "id": "7a98f0b9-3588-4bf2-972b-fecb33c5b06d",
   "metadata": {},
   "outputs": [
    {
     "name": "stdout",
     "output_type": "stream",
     "text": [
      "numpy's computation of population variance: 89034.89\n",
      "numpy's computation of population std dev: 298.38714784655184\n",
      "numpy's computation of sample variance: 98927.65555555555\n",
      "numpy's computation of sample std dev: 314.5276705721701\n"
     ]
    }
   ],
   "source": [
    "print(f\"numpy's computation of population variance: {np.var(SS, ddof=0)}\")\n",
    "print(f\"numpy's computation of population std dev: {np.std(SS, ddof=0)}\")\n",
    "print(f\"numpy's computation of sample variance: {np.var(SS, ddof=1)}\")\n",
    "print(f\"numpy's computation of sample std dev: {np.std(SS, ddof=1)}\")"
   ]
  },
  {
   "cell_type": "markdown",
   "id": "a00a09bc-1815-4ec5-b70d-3b7cad3f6f4b",
   "metadata": {},
   "source": [
    "36. (cont.)\n",
    "    - (c) Compute the Inter-Quartile Range of $S$.\n",
    "\n",
    "    $$IQR = P_{75} - P_{25}$$\n",
    "    \n",
    "\n",
    "    Recall from earlier problems:\n",
    "    \n",
    "    | Rank |  1 | 2 | 3 | 4 | 5 | 6 | 7 | 8 | 9 | 10 |\n",
    "    |------|----|---|---|---|---|---|---|---|---|----|\n",
    "    | Sample | -1 | 0 | 3 | 6 | 7 | 7 | 8 | 9 | 10 | 1000 |\n",
    "\n",
    "    $$r_{75} = \\frac{75}{100} \\cdot (10+1) = \\frac{75}{100} \\cdot 11 = 8.25$$\n",
    "\n",
    "    $$\\alpha = r - \\lfloor r \\rfloor = 0.25$$\n",
    "              \n",
    "    $$P_{75} = x_{(8)} \\cdot (1-0.25) + x_{(9)} \\cdot(0.25) = 9 \\cdot 0.75 + 10 \\cdot 0.25 = 9.25$$\n",
    "\n",
    "    $$r_{25} = \\frac{25}{100} \\cdot (10+1) = \\frac{25}{100} \\cdot 11 = 2.75$$\n",
    "    $$\\alpha = 0.75$$\n",
    "\n",
    "    $$P_{25} = x_{(2)} \\cdot (1-\\alpha) + x_{(3)} \\cdot \\alpha = 0 \\cdot 0.25 + 3 \\cdot 0.75 = 2.25$$\n",
    "\n",
    "    $$IQR = 9.25 - 2.25$$\n",
    "    $$\\boxed{IQR=7}$$"
   ]
  },
  {
   "cell_type": "code",
   "execution_count": 98,
   "id": "3fb7582f-37da-4691-8e41-8ca0b581611d",
   "metadata": {},
   "outputs": [
    {
     "name": "stdout",
     "output_type": "stream",
     "text": [
      "IRQ from scipy = 5.0\n",
      "numpy 75th percentile - 25th percentile = 5.0\n",
      "IQR using percentile method 1 = 9.25 - 2.25 = 7.0\n"
     ]
    }
   ],
   "source": [
    "from scipy.stats import iqr\n",
    "import numpy as np\n",
    "S = [3, 8, 6, 9, -1, 10, 1000, 7, 7, 0]\n",
    "print(f\"IRQ from scipy = {iqr(S)}\")\n",
    "print(f\"numpy 75th percentile - 25th percentile = {np.percentile(S, 75) - np.percentile(S, 25)}\")\n",
    "p75 = percentile_method1(S, 75)\n",
    "p25 = percentile_method1(S, 25)\n",
    "print(f\"IQR using percentile method 1 = {p75} - {p25} = {p75-p25}\")"
   ]
  },
  {
   "cell_type": "markdown",
   "id": "a1603cf9-6184-4d11-a667-d0fd4b192278",
   "metadata": {},
   "source": [
    "As with problems 34, 35 and any other using percentiles, I accept either the numpy method or the method\n",
    "implemented in `percentile_method1`.\n",
    "\n",
    "*Q*: What is the unit of variance?  \n",
    "\n",
    "\n",
    "*A*: \n",
    "\n",
    "$$^\\circ\\mathrm{C}^2$$\n",
    "\n",
    "Square degrees is not a unit people are used to using and is thus not particularly meaningful.\n",
    "\n",
    "*Q*: What is the unit of the standard deviation?\n",
    "\n",
    "*A*: $$^\\circ\\mathrm{C}$$\n",
    "\n",
    "*Q*: Why might people find standard deviation a more understandable unit of dispersion than variance? (This last question is food for thought and will not be graded)\n",
    "\n",
    "*A*: The standard deviation is always in the same unit as the samples.  As such one can plot \n",
    "standard deviation on a probability density function by either shading one standard deviation either\n",
    "direction around mean or by using arrows of length 1 standard deviation emerging to the right\n",
    "and left of the mean.  Whether using shading or arrows, the standard deviation provides\n",
    "a reasonable visualization of the dispersion of the distribution about its mean."
   ]
  },
  {
   "cell_type": "markdown",
   "id": "5ee1ff51-e5f5-474c-8303-84d0dd2fd044",
   "metadata": {},
   "source": [
    "37. As with problem 35, reduce the sample in $S$ with value 1000 to 100.  Now recompute the mean absolute deviation, sample standard deviation, and IQR.  What can we say about the effects of a small number of spurious outliers on each of these statistics?"
   ]
  },
  {
   "cell_type": "code",
   "execution_count": 100,
   "id": "ae278849-ec84-49a4-b75a-8d65849aba1f",
   "metadata": {},
   "outputs": [
    {
     "name": "stdout",
     "output_type": "stream",
     "text": [
      "mean_abs_deviation(S)=17.020000000000003\n",
      "sample standard deviation(S)=30.12732240932731\n",
      "IQR using percentile method 1 = 9.25 - 2.25 = 7.0\n"
     ]
    }
   ],
   "source": [
    "S = [3, 8, 6, 9, -1, 10, 100, 7, 7, 0]\n",
    "print(f\"mean_abs_deviation(S)={mean_abs_deviation(S)}\")\n",
    "print(f\"sample standard deviation(S)={np.std(S, ddof=1)}\")\n",
    "p75 = percentile_method1(S, 75)\n",
    "p25 = percentile_method1(S, 25)\n",
    "print(f\"IQR using percentile method 1 = {p75} - {p25} = {p75-p25}\")"
   ]
  },
  {
   "cell_type": "markdown",
   "id": "e810f0d5-e679-4a06-8a70-5639ad3bbf1b",
   "metadata": {},
   "source": [
    "*Q*: What can we say about the effects of a small number of spurious outliers on each of these statistics?\n",
    "\n",
    "*A*: Standard deviation squares the difference between each sample and the mean, so even a \n",
    "single outlier can significantly impact the sample standard deviation.   Mean absolute\n",
    "deviation at least does away with the square and thus is somewhat less affected.\n",
    "IQR is the most robust of the three to the effect so of the outliers.  \n",
    "One might also point out that so long as the outliers remain outside the range \n",
    "of the 25th to the 75th percentile, the outliers don't affect IQR at all."
   ]
  }
 ],
 "metadata": {
  "kernelspec": {
   "display_name": "Python 3 (ipykernel)",
   "language": "python",
   "name": "python3"
  },
  "language_info": {
   "codemirror_mode": {
    "name": "ipython",
    "version": 3
   },
   "file_extension": ".py",
   "mimetype": "text/x-python",
   "name": "python",
   "nbconvert_exporter": "python",
   "pygments_lexer": "ipython3",
   "version": "3.11.7"
  }
 },
 "nbformat": 4,
 "nbformat_minor": 5
}
