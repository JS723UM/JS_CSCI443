{
 "cells": [
  {
   "cell_type": "markdown",
   "id": "dd0affde-caeb-4791-8b32-7591bff5044e",
   "metadata": {},
   "source": [
    "# CSCI 443 Homework 2\n",
    "\n",
    "Due Feb 15, 2024 by 11:00 pm.\n",
    "\n",
    "Upload this notebook to Databricks and answer the questions in your copy of this notebook.  When you have completed the homework and wish to submit it, download your modified copy of this notebook containig your answers and then submit your modified copy to blackboard.olemiss.edu at \n",
    "\n",
    "    Content/CSCI 443 HW 2\n",
    "\n",
    "**Note regarding the midterm and final:**  The midterm and final will be written, so students will not have access to Databricks or Jupyter or Python.   The questions asked here on an exam would be computed on small datasets as are used for question 31 in Part 7 and all the problems in Parts 8 and 9.  I recommend that you answer the questions in these sections without using Python or a calculator.  The problems are not difficult, and doing them by hand may prepare you for answering such questions on the exams.\n"
   ]
  },
  {
   "cell_type": "markdown",
   "id": "fbbb9067-a6de-40a1-837d-72b807b5d9cf",
   "metadata": {},
   "source": [
    "## Part I: Types of Data\n",
    "\n",
    "Data comes in several types including\n",
    "\n",
    "* *categorical*: the data can be divided into categories like species, color,\n",
    "   garment size {S, M, L}\n",
    "   \n",
    "* *numeric*: numeric data is comprised of numbers: counts, quantites,\n",
    "   measurements.\n",
    "\n",
    "Categorical data can be further divided into *ordinal* and *nominal* data.\n",
    "\n",
    "* *ordinal* data has a natural ordering.  For example Small, Medium, Large\n",
    "  sizes can be ordered from smallest to largest.  \n",
    "\n",
    "* *nominal* data lacks a natural ordering.  For example, \"Truck\" and\n",
    "  \"Car\" are examples of nominal categorical data.  We could order the\n",
    "  words \"Car\" and \"Truck\" in alphabetical order, but ordering based\n",
    "  on spelling of the labels themselves is usually considered\n",
    "  insufficient to consider a type of data as *ordinal* since anything\n",
    "  that has an assigned label in a written language that uses an\n",
    "  alphabet can be ordered into an alphabetical ordering.\n",
    "\n"
   ]
  },
  {
   "cell_type": "markdown",
   "id": "6a7e397b-3f03-442c-8eb1-d2e413645539",
   "metadata": {},
   "source": [
    "### Problems\n",
    "\n",
    "Answer each question below.  You may edit this document to insert your answer.\n",
    "\n",
    "1) {Cat, Dog} is an examle of ordinal categorical data.\n",
    "(True or False)\n",
    "\n",
    "   A: [Insert answer here]\n",
    "\n",
    "2) The set of even numbers represents ordinal categorical data.  (True or False)\n",
    "\n",
    "   A: [Insert answer here]  \n",
    "\n",
    "3) The set of odd numbers represents numeric data.   (True or False)\n",
    "\n",
    "   A: [Insert answer here]\n",
    "\n",
    "4) {January, February, March, April, May} is an example of ordinal categorical data. (True or False)\n",
    "\n",
    "   A: [Insert answer here]\n",
    "\n",
    "5) Ice cream flavors {Vanilla, Chocolate, Strawberry, Mint} is an example of nominal categorical data. (True or False)\n",
    "\n",
    "   A: [Insert answer here]\n"
   ]
  },
  {
   "cell_type": "markdown",
   "id": "17df7959-5e6b-4926-9321-aec8991a17da",
   "metadata": {},
   "source": [
    "## Part 2: Random Experiments, Outcomes, and Sample Spaces.\n",
    "\n",
    "An *outcome* is the result of a single *trial* of a *random experiment.*\n",
    "For example, rolling a die is a *random experiment.*  A single roll of the die results in rolling a 3.  Rolling the die one time is a *trial* and the *outcome* is 3.\n",
    "\n",
    "The set of all possible outcomes for a *random experiment* is called a *sample space*.\n",
    "\n",
    "In a random experiment, the outcome must be uncertain before performing the experiment, with several possible outcomes.\n",
    "\n",
    "### Problems\n",
    "\n",
    "Answer each question below.  You may edit this document to insert your answer.\n",
    "\n",
    "6) I flip a coin and the result is \"heads.\"  \"Heads\" is an outcome.   (True or False)\n",
    "\n",
    "    A: [Insert answer here]\n",
    "\n",
    "7) The class had an average satisfaction score of 0.2.  The mean satisfaction score is an outcome. (True or False)\n",
    "\n",
    "    A: [Insert answer here]\n",
    "    \n",
    "8) I flip a coin.  The set of possible outcomes is {Heads, Tails} and is thus the sample space. (True or False)\n",
    "\n",
    "    A: [Insert answer here]\n",
    "\n",
    "9) The sample space for rolling a six-sided die is  {1, 2, 3, 4, 5, 6}.  (True or False)\n",
    "\n",
    "    A: [Insert answer here]\n",
    "\n",
    "10) I compute the area of a square that is 1 meter on each size.  This is a random experiment. (True or False)\n",
    "\n",
    "    A: [Insert answer here]\n",
    "\n",
    "11) Drawing a card from a 52-card deck is a random experiment.  (True or False)\n",
    "\n",
    "    A: [Insert answer here]\n",
    "\n",
    "12) Each draw of a card from a 52-card deck is a trial.  (True or False)\n",
    "\n",
    "    A: [Insert answer here]\n",
    "    "
   ]
  },
  {
   "cell_type": "markdown",
   "id": "75477244-34b0-4f39-8006-6b418b52e932",
   "metadata": {},
   "source": [
    "## Part 3: Random Variables\n",
    "\n",
    "A *random variable* is a mapping of outcomes to the real line.  If we are given categorical data, it is useful to assign a numeric ordering so that we can do things like plotting a probability mass function where the x-axis spans the values the random variable can take.  For example, we could assign the numbers 1 through 12 for the ordinal categorical data of January through December.  For numeric data, the assignemnt is more straightforward, if the sample space of a random experiment is the numbers 1 through 4 then the randome variable maps the outcome 1 to 1 on the real line, 2 to 2 on the real line, 3 to 3 on the real line, and 4 to 4 on the real line.  When the data is numeric, it is customary to just state that the random variable takes on the value of the outcomes, e.g., we might say, \"let $X$ be the random variable denoting the value of a roll of a 6-sided die.\"  The outcomes are numeric so it is understood that the outcome 1 corresponds to the random variable $X$ taking on the value of 1.\n",
    "\n",
    "There are two kinds of random variables: *discrete* and *continuous*.\n",
    "\n",
    "The number of defective items in a delivery is a *discrete random variable*.  We typically use capital letters to denote a random variable.   For example we might say, \"let $X$ denote the random variable for the number of defective items in a delivery.\"\n",
    "\n",
    "The heights of students in a class is a *continuous random variable* as it can take on any positive real value in the real-line within what is possible for the heights of humans.  \n",
    "\n",
    "### Problems\n",
    "\n",
    "13) The number of customers visiting a store in a day is a continuous random variable. (True or False)\n",
    "    \n",
    "    A: [Insert answer here]\n",
    "\n",
    "14) The time between the arrivals of subway trains is a continuous random variable. (True or False)\n",
    "    \n",
    "    A: [Insert answer here]\n",
    "\n",
    "15) The count of the number of heads as we flip a coin multiple times is a discrete random variable (True of False)\n",
    "\n",
    "    A: [Insert answer here]\n",
    "\n",
    "16) Give three examples of continuous random variables.\n",
    "\n",
    "    A: [Insert answer here]\n",
    "    \n",
    "    A: [Insert answer here]\n",
    "    \n",
    "    A: [Insert answer here]\n",
    "\n",
    "18) Give three examples of discrete random variables.\n",
    "\n",
    "    A: [Insert answer here]\n",
    "    \n",
    "    A: [Insert answer here]\n",
    "    \n",
    "    A: [Insert answer here]\n",
    "    "
   ]
  },
  {
   "attachments": {},
   "cell_type": "markdown",
   "id": "ca9fa0f8-bd00-4a3b-b211-7bd81fe4302b",
   "metadata": {},
   "source": [
    "## Part 4: Events\n",
    "\n",
    "An *event* is a subset of the sample space.  When discussing random variables, an event is a subset of the values a random variable can take.  For example, names of children in a class may be a sample space.  We write each child's name on a slip of paper and place the slips in a hat.  The names are outcomes of the random expreiment of drawing a name from the hat.  Let $X$ denote the random variable that takes on the value of the name of a child.  If we are being pedantic, we would say that the random variable maps each name on to the real line; thereby, assigning a number for each child's name.  If these names include Alice, Bob, Charles, and Dan.  An example event for this sample space would be drawing either Bob or Charles (or pedantically stated, the numbers for Bob or Charles).    \n",
    "\n",
    "Although we say that an event is a subset.  The event could be any subset including but not limited to all outcomes in the sample space, a single outcome in the sample space, or the null set.\n",
    "\n",
    "19) Let $E$ denote rolling an even number when rolling a six-sided die.  $E$ is an event.  True or False\n",
    "\n",
    "    A:【Insert answer here]\n",
    "    \n",
    "20) Let $X$ be a random variable denoting the number of customers arriving in a day.  More than 100 customers arriving in a day is an event.  True or False.\n",
    "\n",
    "    A: [Insert answer here]\n",
    "\n",
    "21) Define two events over the random experiment of drawing cards from a 52-card deck.\n",
    "\n",
    "    A: [Insert answer here]\n",
    "    "
   ]
  },
  {
   "cell_type": "markdown",
   "id": "db754fba-4d2b-46ad-8ac1-375f89b991f2",
   "metadata": {},
   "source": [
    "## Part 5: Distribution\n",
    "\n",
    "A *distribution* is an assignment of the probabilities for the outcomes to a random experiment.\n",
    "\n",
    "The distribution for the outcomes of rolling a 6-side dice is 1/6 for each of 1, 2, 3, 4, 5, and 6.\n",
    "\n",
    "When all of the probabilities of outcomes are equal, we say that distribution is *uniform.*  \n",
    "\n",
    "Let $X$ denote the random variable that takes on the value of the roll of a six-sided die.  Because the probabilities of all the outcomes are equal, we say that random variable $X$ obeys a *uniform* distribution.\n",
    "\n",
    "Let $P$ denote probability.  We say $P[X=i]$ denotes the probability that the discrete random variable $X$ takes on the value $i$.\n",
    "\n",
    "Distributions have the following properties:  \n",
    "\n",
    "* The probability assigned to each outcome must be non-negative.\n",
    "\n",
    "* The probabilities of all outcomes must sum to 1.\n",
    "\n",
    "In other words, if $X$ is a discrete random variable that takes on values in the sample space $S$ then\n",
    "\n",
    "$\\sum_{i \\in S} P[X=i] = 1$\n",
    "\n",
    "When $P$ defines the probabilities of all outcomes in a discrete sample space, we call $P$ a *Probability Mass Function (PMF)*. \n",
    "\n",
    "Let $X$ denote the high temperatures on any given day in 2023.  $X$ is a continuous random variable.\n",
    "If we can measure the high temperature with infinite precision the probability that an exact temperature occurs twice is zero.  Instead we measure the probability that the temperature takes on a range of continuous values.  For example, $P[10^{\\circ} \\leq X \\leq 15^{\\circ}]$.  \n",
    "\n",
    "A probability density function describes how probabilities are distributed across the range of continuous values taken on by a continuous random variable.  A probability density function $f$ obeys the following:\n",
    "\n",
    "$P[a \\leq X \\leq b] = \\int_a^b f(x) dx$\n",
    "\n",
    "A Gaussian random variable $X$ is a continuous random variable that has positive probability density for all values of $x$ on the real line, meaning there is possibility of a Gaussian random variable taking on any value from $-\\infty$ to $+\\infty$.  The PDF of a Gaussian random variable obeys the following probability density function:\n",
    "\n",
    "$f(x) = \\frac{1}{\\sigma\\sqrt{2\\pi}} e^{\\frac{1}{2}(\\frac{x-\\mu}{\\sigma})^2}$\n",
    "\n",
    "Here $\\sigma$ is the standard deviation and $\\mu$ is the mean.  A Gaussian ddistribution is completely described by only these two parameters $\\sigma$ and $\\mu$.\n",
    "\n",
    "### Problems\n",
    "\n",
    "22) Use matplotlib to create a bar plot of the probability mass function for the outcomes of rolling a six-sided die.   \n"
   ]
  },
  {
   "cell_type": "code",
   "execution_count": 1,
   "id": "c19f49b6-9879-42db-8256-d4547fcabed5",
   "metadata": {
    "scrolled": true
   },
   "outputs": [],
   "source": [
    "# [Insert code here]"
   ]
  },
  {
   "cell_type": "markdown",
   "id": "eebce2d6-f139-4152-9233-10a7eded7c92",
   "metadata": {},
   "source": [
    "23) Plot Gaussian probability density functions for 3 Gaussian random variables with mean $\\mu=0$ on the same plot with standard deviations $\\sigma=1, \\sigma=2, \\sigma=4$ over the range -4 to 4.  (Hint: lookup `from scipy.stats import norm`)"
   ]
  },
  {
   "cell_type": "code",
   "execution_count": 2,
   "id": "facbd0b3-dc58-474f-8bec-9e401cb35069",
   "metadata": {},
   "outputs": [],
   "source": [
    "# [Insert code here]"
   ]
  },
  {
   "cell_type": "markdown",
   "id": "1e473986-b0ad-4f52-8579-665f8501bd0d",
   "metadata": {},
   "source": [
    "24) On three new plots. For $\\mu=0, \\sigma=1$ from -4 to 4, use a Gaussian random number generator to populate a relative frequency histogram with 20 buckets using only hundred samples (i.e., random numbers).  On the same plot, place the probability density function for a Gaussian random variable with the same mean and standard deviation.  For the second plot use 1000 samples.  For the third plot use 10000 samples.  What happens as we increase the number of samples?\n",
    " "
   ]
  },
  {
   "cell_type": "code",
   "execution_count": 3,
   "id": "cef9bf2f-191d-4d48-b6f4-9f90ad9c6dec",
   "metadata": {},
   "outputs": [],
   "source": [
    "# Insert code here.\n"
   ]
  },
  {
   "cell_type": "markdown",
   "id": "40fdc05b-eca3-4193-84df-99adea389a29",
   "metadata": {},
   "source": [
    "26) What happens as $\\sigma$ increases?\n",
    "\n",
    "   A: [Insert answer here]\n",
    "\n",
    "27) Plot three Gaussian probability density functions on the same plot all with $\\sigma=1$ and each with $\\mu=1$, $\\mu=-1$, and $\\mu=3$ respectively.\n",
    "    \n"
   ]
  },
  {
   "cell_type": "code",
   "execution_count": null,
   "id": "0b3c99c7-5918-4b55-bf60-a42c0bed0299",
   "metadata": {},
   "outputs": [],
   "source": [
    "# Insert code here"
   ]
  },
  {
   "cell_type": "markdown",
   "id": "155c28d2-d7a6-4993-8a33-2f0f5303a8ac",
   "metadata": {},
   "source": [
    "29) What happens to the probability density function as $\\mu$ increases?\n",
    "\n",
    "   A: [Insert answer here]\n"
   ]
  },
  {
   "cell_type": "markdown",
   "id": "e3f08797-84fa-4583-a965-0294e3e0f504",
   "metadata": {},
   "source": [
    "## Part 6: Distribution vs. Samples\n",
    "\n",
    "In some cases in the real-world we can know the underlying probability distribution for a random variable. For example, we can say that we know the distrubtion of probabilites for the outcomes of rolling an unbiased six-sided die, but usually in the real-world we do NOT know the *underlying distribution* that a random variable obeys.  Instead we repeat a random experiment and look at the outcomes.  The outcome of each such trial is said to be a *sample*.  With enough samples we can infer statistics of the underlying distribution such as its mean or median. \n",
    "\n",
    "For a continuous random variable, the number of times samples fall within range is called the *absolute frequency* for that range.  If we divide the number of times samples fall within a range by the total number of trials performed (i.e., the number of samples drawn from the underling distribution), we call this the *relative frequency* for that range.  In other words, the portion of samples falling within a range is its *relative frequency*. "
   ]
  },
  {
   "cell_type": "markdown",
   "id": "b9e7e6e1-045b-4bac-9c56-ad1c7de308d1",
   "metadata": {},
   "source": [
    "### Problems\n",
    "\n",
    "29. Pull the file `hw2/part6_samples1.csv` from the github class repository and upload the file to Databricks.\n",
    "    - a) Plot an absolute frequency histogram of the samples in `part6_samples1.csv` (see `matplotlib.hist`).  \n"
   ]
  },
  {
   "cell_type": "code",
   "execution_count": 6,
   "id": "a26f291d-b0ee-4d94-ab96-f0f37a8835ee",
   "metadata": {
    "scrolled": true
   },
   "outputs": [],
   "source": [
    "# [Insert code here]"
   ]
  },
  {
   "cell_type": "markdown",
   "id": "afce3cd6-dcfe-41ff-a008-dec24c0ba968",
   "metadata": {},
   "source": [
    "   - (b) Is the distribution symmetric?  Does the distribution have zero mean?\n",
    "What other distinguishing characteristics does this distribution have?\n",
    "\n",
    "[Insert answer here]"
   ]
  },
  {
   "cell_type": "code",
   "execution_count": null,
   "id": "9c43f7a2-6a82-42c8-aaae-cdb5a69c0715",
   "metadata": {},
   "outputs": [],
   "source": []
  },
  {
   "cell_type": "markdown",
   "id": "c976dee4-b36c-43ad-b6a6-e72a0d8eed4f",
   "metadata": {},
   "source": [
    "30. Pull the file `hw2/part6_samples2.csv` from the github class repository and upload the file to Databricks.\n",
    "    - (a) Plot a relative frequency histogram for the samples in `part6_sample2.csv`. "
   ]
  },
  {
   "cell_type": "code",
   "execution_count": 8,
   "id": "30b9131d-36a1-4e77-82d6-57eb914a130a",
   "metadata": {},
   "outputs": [],
   "source": [
    "# [insert code here]"
   ]
  },
  {
   "cell_type": "markdown",
   "id": "edeaaeea-d503-416d-a7ad-fd63dfb2de22",
   "metadata": {},
   "source": [
    "- (b) Is the distribution symmetric?  What other distinguishing characteristics does this distribution have?"
   ]
  },
  {
   "cell_type": "markdown",
   "id": "19629afa-815c-497e-9b21-220dead4f6ab",
   "metadata": {},
   "source": [
    "## Part 7: Range, Means, Medians, Trimmed Means, Percentiles\n",
    "\n",
    "31. Given the samples S = $[-1, 3, -4, 2, 6]$.\n",
    "  - (a) What is the min of the samples in set $S$?\n",
    "  - (b) What is the max of the samples in set $S$?\n",
    "  - (c) What is the range of the samples in set $S$?\n",
    "  - (d) What is the mean of the samples in set $S$?\n",
    "  - (e) What is the median of the samples in set $S$?\n",
    "  - (f) What is the 20th percentile of the samples in set $S$ using linear interpolation?\n",
    "\n",
    "32. Repeat (a)-(f) for the samples in `hw2/part6_samples1.csv`\n",
    "  - (g) What is the 10% trimmed mean of the samples in `hw2/part6_samples1.csv`\n",
    "\n",
    "33. Repeat (a)-(f) for the samples in `hw2/part6_samples1.csv`?\n",
    "  - (g) What is the 10% trimmed mean of the samples in `hw2/part6_samples2.csv`\n"
   ]
  },
  {
   "cell_type": "markdown",
   "id": "e722c7b8-1af0-4560-bf59-992f903324e5",
   "metadata": {},
   "source": [
    "## Part 8: Effects of outliers on mean, median, percentile, and trimmed mean.\n",
    "\n",
    "Here we consider the effects of outliers on measures of central tendency. "
   ]
  },
  {
   "cell_type": "markdown",
   "id": "e9853a6f-9d47-4fe8-bc50-831572d99d57",
   "metadata": {},
   "source": [
    "34. Let $S = {3, 8, 6, 9, -1, 10, 1000, 7, 7, 0}$.  When computing these statistics, consider the possibility that 1000 sample is a spurious error.\n",
    "    - (a) Compute the mean of $S$.\n",
    "    - (b) Compute the median of $S$.  What is the difference between the mean and the median?\n",
    "    - (c) Does this distribution exhibit left skew, right skew, or no skew?  Explain.\n",
    "    - (d) Compute 10% trimmed mean for $S$.  How does this compare to the median?\n",
    "    - (e) Compute the 80th percentile using linear interpolation.\n",
    "    - (g) Compute the 90th percentile using linear interpolation.\n",
    "\n",
    "35. Reduce the sample in $S$ with value 1000 to 100.  Recompute mean, median, 80th percentile, and 90th percentile.  What can we say about computing percentiles near the extrema (near 0th percentile or 100th percentile) when there may be outliers that are not part of the natural variation (i.e., caused by error)?     "
   ]
  },
  {
   "cell_type": "markdown",
   "id": "cf0829a5-16a3-4ae0-979c-1a60a995b85b",
   "metadata": {},
   "source": [
    "## Part 9: Mean Absolute Deviation, Sample Standard Deviation, Inter-Quartile Range (IQR)\n",
    "\n",
    "Consider the same sample set $S$ as used in Part 8."
   ]
  },
  {
   "cell_type": "markdown",
   "id": "908189aa-279f-4fe7-87dc-05b36473ce05",
   "metadata": {},
   "source": [
    "36. Compute the following metrics.\n",
    "    - (a) Compute the mean absolute deviation of $S$.\n",
    "    - (b) Compute the sample variance and sample standard deviation.   Assume that the samples are all measures of temperature in $^\\circ\\mathrm{C}$.  Thus the unit of the samples is $^\\circ\\mathrm{C}$.  What is the unit of variance?  What is the unit of the standard deviation?  Why might people find standard deviation a more understandable unit of dispersion than variance? (This last question is food for thought and will not be graded)\n",
    "    - (c) Compute the Inter-Quartile Range of $S$.\n",
    "      \n",
    "37. As with problem 35, reduce the sample in $S$ with value 1000 to 100.  Now recompute the mean absolute deviation, sample standard deviation, and IQR.  What can we say about the effects of a small number of spurious outliers on each of these statistics?"
   ]
  },
  {
   "cell_type": "markdown",
   "id": "5ee1ff51-e5f5-474c-8303-84d0dd2fd044",
   "metadata": {},
   "source": []
  },
  {
   "cell_type": "code",
   "execution_count": null,
   "id": "ae278849-ec84-49a4-b75a-8d65849aba1f",
   "metadata": {},
   "outputs": [],
   "source": []
  }
 ],
 "metadata": {
  "kernelspec": {
   "display_name": "Python 3 (ipykernel)",
   "language": "python",
   "name": "python3"
  },
  "language_info": {
   "codemirror_mode": {
    "name": "ipython",
    "version": 3
   },
   "file_extension": ".py",
   "mimetype": "text/x-python",
   "name": "python",
   "nbconvert_exporter": "python",
   "pygments_lexer": "ipython3",
   "version": "3.11.7"
  }
 },
 "nbformat": 4,
 "nbformat_minor": 5
}
