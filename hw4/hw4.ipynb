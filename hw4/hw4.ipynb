{
 "cells": [
  {
   "cell_type": "markdown",
   "id": "d641e5b2-5b47-4ab9-9871-5deb8540605a",
   "metadata": {},
   "source": [
    "# CSCI 443 Homework 4\n",
    "\n",
    "In homework 3, we left off with Z-scores and sampling distributions.  \n",
    "\n",
    "In this homework we focus on confidence intervals and the effects of\n",
    "skewness on computing confidence intervals."
   ]
  },
  {
   "cell_type": "markdown",
   "id": "c995ed44-e9fa-4afd-9d21-05fb86ea99cd",
   "metadata": {},
   "source": [
    "## Part 1: Inline LaTeX support in Databricks.\n",
    "\n",
    "Previously I had dollar signs ($) scattered throughout the \n",
    "text where I wanted to represent math.  I found the solution to this for Databricks.\n",
    "\n",
    "In Jupyter notebooks, we can represnt LaTeX math within a line of text by surrounding \n",
    "the text with a single dollar sign on each side.  This doesn't work in Databricks.\n",
    "However, with a little searching I found a syntax that DOES work to support inline LaTeX.\n",
    "The same syntax works in both Databricks and Jupyter, and I will be using it going \n",
    "forward.\n",
    "\n",
    "As an example:\n",
    "\n",
    ">  In the early stages of a pandemic, the number of infections tends to \n",
    ">  grow exponentially.  In a fully susceptible population, the average number of \n",
    ">  secondary infections created by a single infected individual is called  the Basic\n",
    ">  Reproduction Number (\\\\(R_0\\\\)).\n",
    "\n",
    "\\\\(R_0\\\\) is an example of inline LaTeX, meaning the mathematical expression \n",
    "appears within the text.  This was achived by preceding the math with two \n",
    "blackslashes and an open parenthesis and succeeding the math with two backslashes\n",
    "and a close parenthsis. \\\\(R_0\\\\) is written as\n",
    "\n",
    "    \\\\\\(R_0\\\\\\)\n",
    "\n",
    "Render the mathematical expressions described by the following by inserting\n",
    "LaTeX into this workbook."
   ]
  },
  {
   "cell_type": "markdown",
   "id": "a5191597-9e79-415f-bf32-979befaf67fa",
   "metadata": {},
   "source": [
    "**Problem 1.1** Express PDF of a binomial distribution.  (NOTE: Not the binomial theorem which \n",
    "    was a problem in the last homework).\n",
    "\n",
    "ANSWER HERE"
   ]
  },
  {
   "cell_type": "markdown",
   "id": "840b0c84-5094-4a55-96ec-26c1a12cb9a5",
   "metadata": {},
   "source": [
    "**Problem 1.2** Express the formula for the sample variance, which is calculated as the sum of \n",
    "    squared deviations from the mean divided by the number of observations minus one.\n",
    "\n",
    "ANSWER HERE"
   ]
  },
  {
   "cell_type": "markdown",
   "id": "420c9246-4f2e-4d7c-9ed2-3a7315a2be1d",
   "metadata": {},
   "source": [
    "**Problem 1.3** Write a sentence that includes one over r squared within the text.  The intent\n",
    "is to specifically exercise using inline LaTeX for this problem.\n",
    "                                                \n",
    "ANSWER HERE                                                                      "
   ]
  },
  {
   "cell_type": "markdown",
   "id": "5455d845-72eb-4c42-bc06-46099567ab87",
   "metadata": {},
   "source": [
    "## Part 2: Formal definition for Skewness\n",
    "\n",
    "We mostly covered skewness empirically.  \"Follow the tails\" being a useful mnemonic.\n",
    "\n",
    "In most cases, a left (negative) skewed distribution is characterized by having\n",
    "a mean that is less than the median, i.e., the heavy tail on the left has pulled\n",
    "the mean to the left of the median.  Conversly, a right skewed distribuion is \n",
    "characterized by having a mean that is greater than the median.  We will not\n",
    "encounter any distributions in this class where this is not true.  However, \n",
    "the relationship between the mean and median is merely a consequence, it isn't\n",
    "the formal definition of skewness.  Skewness (\\\\(\\gamma\\\\)) is most often defined \n",
    "as follows\n",
    "\n",
    "$$\\text{Skewness } \\gamma = \\frac{E[(X-\\mu)^3]}{\\sigma^3}$$\n",
    "\n",
    "The sample variance \\\\(\\sigma^2= \\frac{1}{n-1}\\sum (x_i-\\bar{x})^2\\\\)\n",
    "uses \\\\(\\frac{1}{n-1}\\\\) instead of \\\\(\\frac{1}{n}\\\\) to \n",
    "account for sample variance being computed from the same samples\n",
    "as the sample mean.  \n",
    "\n",
    "Sample Skewness (\\\\(G_1\\\\)) has a somewhat more complicated correction\n",
    "to handle the bias introduced by computing the sample mean, sample\n",
    "standard deviation, and sample skewness from the same samples.\n",
    "\n",
    "$$G_1 = \\frac{n}{(n-1)(n-2)}\\sum_{i=1}^n \\bigg(\\frac{x_i-\\bar{x}}{s}\\bigg)^3$$\n",
    "\n",
    "where\n",
    "\n",
    "  - \\\\(n\\\\) is the number of samples\n",
    "  - \\\\(x_i\\\\) is the \\\\(i^{th}\\\\) sample.\n",
    "  - \\\\(\\bar{x}\\\\) is the sample mean.\n",
    "\n",
    "\\\\(\\frac{n}{(n-1)(n-2)}\\\\) includes the correction for the bias \n",
    "introduced by computing \\\\(\\bar{x}\\\\), \\\\(s\\\\), and \n",
    "\\\\(G_1\\\\) from the same samples.  The derivation of this\n",
    "correction is outside the scope of the course, but I welcome\n",
    "the student to study it further should they wish.\n",
    "\n"
   ]
  },
  {
   "cell_type": "markdown",
   "id": "5dc9fefa-8569-4c2e-996c-86a6ba972074",
   "metadata": {},
   "source": [
    "**Problem 2.1** Create code in this notebook to compute the sample skewness.\n",
    "\n",
    "    def sample_skewness(samples) -> float:\n",
    "      ..."
   ]
  },
  {
   "cell_type": "code",
   "execution_count": null,
   "id": "4937cb3e-c458-42d9-b7fa-437635775c3c",
   "metadata": {},
   "outputs": [],
   "source": [
    "# ANSWER HERE"
   ]
  },
  {
   "cell_type": "markdown",
   "id": "6da3a73a-c7cd-4171-9da4-398c4500acc9",
   "metadata": {},
   "source": [
    "**Problem 2.2** Write a unit test in this notebook that confirms that your\n",
    "implementation of sample skewness returns near 0 \\\\(\\pm 0.05\\\\) for a\n",
    "sufficient number of samples drawn from U[0,1].  U[0,1] is symmetric.\n",
    "All symmetric distributions exhibit 0 skewness.  \n"
   ]
  },
  {
   "cell_type": "code",
   "execution_count": null,
   "id": "b2e60a10-1d22-483e-ab4e-bf5a1c2790d8",
   "metadata": {},
   "outputs": [],
   "source": [
    "# ANSWER HERE"
   ]
  },
  {
   "cell_type": "markdown",
   "id": "deb6532d-ab54-47f7-937d-06c7998edc2d",
   "metadata": {},
   "source": [
    "**Problem 2.3** Write a second unit test that confirms that your implementation returns \\\\(2 \\pm 0.05\\\\) for a sufficient number of samples drawn from an exponential random variable with \\\\(\\lambda=1\\\\)."
   ]
  },
  {
   "cell_type": "code",
   "execution_count": null,
   "id": "e8d35940-091d-4f06-bea1-44a04f181c17",
   "metadata": {},
   "outputs": [],
   "source": [
    "# ANSWER HERE"
   ]
  },
  {
   "cell_type": "code",
   "execution_count": 64,
   "id": "de89d5b6-afe5-4c02-a828-e778c03d38ea",
   "metadata": {},
   "outputs": [],
   "source": [
    "import matplotlib.pyplot as plt\n",
    "import numpy as np\n",
    "\n",
    "def plot_triangular_distribution(a, b, c):\n",
    "    \"\"\"\n",
    "    Plots a triangular distribution with labels for a, b, and c.\n",
    "    The peak (c) must be between a and b.\n",
    "    \n",
    "    Parameters:\n",
    "    - a: The minimum value of the distribution\n",
    "    - b: The maximum value of the distribution\n",
    "    - c: location of the mode (peak) of the distribution\n",
    "    \"\"\"\n",
    "    assert a <= c <= b \n",
    "    \n",
    "    # Define points for the triangular shape\n",
    "    x = [a, c, b]\n",
    "    h = 2 / (b-a)\n",
    "    w = b-a\n",
    "    y = [0, h, 0]\n",
    "    \n",
    "    # Plotting the triangular distribution\n",
    "    plt.figure(figsize=(8, 4))\n",
    "    plt.plot(x, y, '-o', label='Triangular Distribution')\n",
    "    \n",
    "    # Annotating points a, b, and c\n",
    "    plt.text(a - 0.025 * w, 0.05, 'a', ha='center', va='bottom', fontsize=12)\n",
    "    plt.text(b + 0.025 * w, 0.05, 'b', ha='center', va='bottom', fontsize=12)\n",
    "    plt.text(c, 1.05 * h, 'c', ha='center', va='bottom', fontsize=12)\n",
    "    \n",
    "    # Additional plot settings\n",
    "    plt.fill_between(x, y, color='skyblue', alpha=0.5)\n",
    "    plt.xlim([a - 0.1 * (b - a), b + 0.1 * (b - a)])\n",
    "    plt.ylim([0, h * 1.15])\n",
    "    plt.xlabel('Value')\n",
    "    plt.ylabel('Probability Density')\n",
    "    plt.title('Example Triangular Distribution')\n",
    "    plt.grid(True)\n",
    "    plt.show()\n",
    "\n",
    "\n"
   ]
  },
  {
   "cell_type": "markdown",
   "id": "f07328a7-1148-4fbb-9dec-fc7ca735e866",
   "metadata": {},
   "source": [
    "**Problem 2.4** Skewness of a distribution is defined as\n",
    "\n",
    "\\\\[ \\gamma = \\frac{E[(X - \\mu)^3]}{\\sigma^3} = \\frac{1}{\\sigma^3} \\int_{-\\infty}^{\\infty} (x - \\mu)^3 f(x) \\, dx \\\\]\n",
    "\n",
    "A triangular distribution is defined by three parameters.  It has the pdf\n",
    "\n",
    "\\\\[\n",
    "f(x) = \\begin{cases} \n",
    "  0      & \\text{if } x \\leq a \\\\\n",
    "  \\frac{2\\cdot(x-a)}{(b-a)(c-a)}& \\text{if } a \\leq x \\leq c \\\\\n",
    "  \\frac{2\\cdot(c-x)}{(b-a)(c-b)}& \\text{if } c \\leq x \\leq b \\\\\n",
    "  0 & \\text{if } x \\geq b \\\\\n",
    "\\end{cases}\n",
    "\\\\]\n",
    "\n",
    "where \n",
    "\n",
    " * \\\\(a\\\\) is the left corner of the triangle, i.e., the lower bound\n",
    "   of the distribution's pdf.   \n",
    " * \\\\(b\\\\) is the right corner of the triangle, i.e., the upper bound\n",
    "   of the distribution's pdf.\n",
    " * \\\\(c\\\\) is at the peak of the triangle, i.e., the mode of the\n",
    "   distribution's pdf.\n",
    "\n",
    "An example triangular distribution is shown below.\n"
   ]
  },
  {
   "cell_type": "code",
   "execution_count": 63,
   "id": "77280601-b2e0-45d3-be36-331d5f19fd3c",
   "metadata": {},
   "outputs": [
    {
     "data": {
      "image/png": "[encoded data removed]",
      "text/plain": [
       "<Figure size 800x400 with 1 Axes>"
      ]
     },
     "metadata": {},
     "output_type": "display_data"
    }
   ],
   "source": [
    "plot_triangular_distribution(a=0, b=1, c=2/3)\n"
   ]
  },
  {
   "cell_type": "markdown",
   "id": "264331bb-116c-453e-9147-37b2ce5b4ba1",
   "metadata": {},
   "source": [
    "The mean of a triangular distribution is given by \n",
    "\n",
    "\\\\[ \\mu = \\frac{a + b + c}{3}\\\\]\n",
    "\n",
    "A right triangular distribution with the peak on the right edge of the \n",
    "triangle has \\\\(b=c\\\\), as shown below.  The triangle is shifted to the \n",
    "left so that the mean resides at 0.\n"
   ]
  },
  {
   "cell_type": "code",
   "execution_count": 68,
   "id": "aaef87dd-b7a0-4e08-94d8-74b0a013b162",
   "metadata": {},
   "outputs": [
    {
     "data": {
      "image/png": "[encoded data removed]",
      "text/plain": [
       "<Figure size 800x400 with 1 Axes>"
      ]
     },
     "metadata": {},
     "output_type": "display_data"
    }
   ],
   "source": [
    "a, b, c = -2/3, 1/3, 1/3 \n",
    "plot_triangular_distribution(a, b, c)"
   ]
  },
  {
   "cell_type": "markdown",
   "id": "e58aa2aa-47f8-4431-8a3c-bad561431efe",
   "metadata": {},
   "source": [
    "PDF of a right triangle distribution:\n",
    "\n",
    "\\\\[ f(x) = \\frac{2(x-a)}{(b-a)^2} \\quad \\text{for } a \\leq x \\leq b \\\\]\n",
    "\n",
    "However, \\\\(b-a=1\\\\), \\\\(a=-2/3\\\\), and \\\\(b=1/3\\\\) causing the above to simplify\n",
    "\n",
    "\\\\[ f(x) = 2(x-\\frac{2}{3}) \\quad \\text{for } -\\frac{2}{3} \\leq x \\leq \\frac{1}{3} \\\\]\n",
    "\n",
    "Derive the skewness for this distribution."
   ]
  },
  {
   "cell_type": "markdown",
   "id": "c983392a-1394-40fe-b1a9-e99673e8e52e",
   "metadata": {},
   "source": [
    "ANSWER HERE"
   ]
  },
  {
   "cell_type": "markdown",
   "id": "a1480aa2-a2e1-4a29-965e-df387885be0f",
   "metadata": {},
   "source": [
    "## Part 3: Some intuition for sample variance and sample skewness.  \n",
    "\n",
    "With variance we look at the sum of the squares \n",
    "\\\\(\\sigma^2= \\frac{1}{n-1}\\sum (x_i-\\bar{x})^2\\\\).\n",
    "The square means that all terms in the summation are positive.  The \n",
    "further samples are away from the mean in either direction their\n",
    "impact on the variance increases with the square of that distance.\n",
    "Skewness uses the sum of the cubes.  Consider the case when\n",
    "\\\\(\\bar{x}\\\\) is 0 and let \\\\(C\\\\) denote \\\\(n/((n-1)(n-2))\\\\). The\n",
    "computation of sample skewness simplifes to a sum of cubics: \n",
    "\n",
    "$$C\\cdot \\sum_{i=0}^{n} x^3$$\n",
    "\n",
    "\\\\(x^3\\\\) is an odd function and as such any sample which is to the left of the\n",
    "mean by \\\\(d_i = x_i-\\bar{x}\\\\) will cancel with a sample the same distance on the\n",
    "right side \\\\(d_j = x_j-\\bar{x}\\\\) if \\\\(d_i = -d_j\\\\).  A symetric distribution \n",
    "thus has 0 skewness regardles of its variance.\n",
    "\n",
    "\n",
    "**Problem 3.1** Write code in this notebook to draw 100 samples from a uniform random\n",
    "variable \\\\(U[0,1]\\\\). Use matplotlib to create a relative\n",
    "frequency histogram samples with 5 bins to confirm that the shape is \n",
    "roughly uniform.  Not all buckets will obtain the same number of samples.   \n",
    "Aside: We will go over tests for measuring how close samples match a \n",
    "hypothesized distribution, for now a visual assessment is adequate.\n"
   ]
  },
  {
   "cell_type": "code",
   "execution_count": 1,
   "id": "ea296e6b-55ac-444f-b561-ecabff815c3e",
   "metadata": {},
   "outputs": [],
   "source": [
    "# ANSWER HERE"
   ]
  },
  {
   "cell_type": "markdown",
   "id": "ee0a5c96-5048-448f-aaea-b1c520f812cc",
   "metadata": {},
   "source": [
    "**Problem 3.2** Create a plot that shows the sum of the squares \n",
    "\\\\(\\sum_{i=1}^n (x_i-\\bar{x})^2 \\\\) for the same samples as generated in Problem \\\\(\\xcancel{2.5}\\\\) 3.1.\n",
    "The x-axis should be \\\\(i\\\\) where \\\\(i\\\\) denotes the \\\\(i^{th}\\\\) sample.\n",
    "The y-axis should be the sum of the squares up to the \\\\(i^{th}\\\\) sample.\n",
    "This plot should be non-decreasing.  It demonstrates how sum of squares increases\n",
    "whether samples fall above or below the mean.  "
   ]
  },
  {
   "cell_type": "code",
   "execution_count": 2,
   "id": "4e8623fc-1904-4649-a66c-81fc49b21d54",
   "metadata": {},
   "outputs": [],
   "source": [
    "# ANSWER HERE\n",
    "    "
   ]
  },
  {
   "cell_type": "markdown",
   "id": "b59edb94-ff2b-44f4-8e12-67ee48d756b6",
   "metadata": {},
   "source": [
    "**Problem 3.3**  Order the samples from Problem 3.1 from smallest to largest and create another plot.  \n"
   ]
  },
  {
   "cell_type": "code",
   "execution_count": 3,
   "id": "6d903c50-0409-4515-aad0-5672b26efd66",
   "metadata": {},
   "outputs": [],
   "source": [
    "# ANSWER HERE\n"
   ]
  },
  {
   "cell_type": "markdown",
   "id": "9f3a40d3-cbb8-4ca6-a308-a189a8296456",
   "metadata": {},
   "source": [
    "**Problem 3.4** When the samples are ordered, what happens?  Explain the\n",
    "shape.  What does the shape of the curve tell us about the contribution to the\n",
    "variance of points that are farther from the mean?"
   ]
  },
  {
   "cell_type": "markdown",
   "id": "177ec639-baec-431c-a1f1-f5f34a4ea704",
   "metadata": {},
   "source": [
    "ANSWER HERE"
   ]
  },
  {
   "cell_type": "markdown",
   "id": "b3c99ab5-4c53-4309-8a6e-b2811056a503",
   "metadata": {},
   "source": [
    "**Problem 3.5** Create another plot that shows the sum of the \n",
    "cubes \\\\(\\sum_{i=1}^n (x_i - \\bar{x})^3\\\\) for the same samples \n",
    "generated in Problem \\\\(\\xcancel{2.2} 3.1\\\\).  The resulting plot should NOT be\n",
    "increasing."
   ]
  },
  {
   "cell_type": "code",
   "execution_count": 4,
   "id": "53cc890d-24e8-422b-82cb-253224408926",
   "metadata": {},
   "outputs": [],
   "source": [
    "# ANSWER HERE"
   ]
  },
  {
   "cell_type": "markdown",
   "id": "c0e6210c-b1d7-4b19-a335-c3bc1ca83e6d",
   "metadata": {},
   "source": [
    "**Problem 3.6** Order the samples from smallest to largest and create the same plot again\n",
    "but with the ordered samples.  \n"
   ]
  },
  {
   "cell_type": "code",
   "execution_count": 5,
   "id": "01038f51-cd09-40d8-8d3f-b08b8e08d54d",
   "metadata": {},
   "outputs": [],
   "source": [
    "# ANSWER HERE"
   ]
  },
  {
   "cell_type": "markdown",
   "id": "197e6afb-251e-4e6e-9fe0-d2af9a9b833a",
   "metadata": {},
   "source": [
    "**Problem 3.7** How does this plot differ from the plot for cumulative sum of squares?\n",
    "Note that the function is no longer non-decreasing.  How does the shape of the \n",
    "curve affect the contribution of the samples \n",
    "to the left of the mean vs. to the right of the mean for \n",
    "an unskewed distribution? "
   ]
  },
  {
   "cell_type": "markdown",
   "id": "df8fe9f4-f601-4493-ad7f-02fcb44d902c",
   "metadata": {},
   "source": [
    "ANSWER HERE"
   ]
  },
  {
   "cell_type": "markdown",
   "id": "38c44674-b195-4569-921b-159def8231a1",
   "metadata": {},
   "source": [
    "**Problem 3.8** How does the shape of this curve affect the contribution of samples \n",
    "farther from the mean than nearer to the mean? What happens if more samples\n",
    "are near the mean on one-side of the distribution as would occur with \n",
    "a skewed distribution?"
   ]
  },
  {
   "cell_type": "markdown",
   "id": "b81dbe9d-5a3f-4036-b0d5-0aa06281c7fb",
   "metadata": {},
   "source": [
    "ANSWER HERE"
   ]
  },
  {
   "cell_type": "markdown",
   "id": "d4e71ce0-014c-4acf-82e2-5afa3a975cab",
   "metadata": {},
   "source": [
    "## Part 4: Binomial Distributions and Confidence Intervals.\n",
    "\n",
    "A *Bernoulli random variable* is defined by a single trial that can\n",
    "result in one of two possible outcomes: 0 and 1, heads or tails, pass or file.  \n",
    "One outcome occurs with probability \\\\(p\\\\), and the other outcome \n",
    "occurs with probability \\\\(1−p\\\\). \n",
    "\n",
    "A *binomial random variable* represents the sum of outcomes from a series \n",
    "of Bernoulli trials. Unlike continuous random variables, which can \n",
    "assume any value within a given range, a binomial random variable\n",
    "can only take on integer values, because the binomial random variable\n",
    "counts the number of successes in \\\\(n\\\\) trials, making it a discrete\n",
    "random variable.\n",
    "\n",
    "With continuous random variables, the probability that an outcome \n",
    "within a range occurs \\\\([a,b]\\\\) is given by the area under the probability\n",
    "density function curve for that range.  We thus compute the probability\n",
    "of an outcome landing in \\\\([a,b]\\\\) as the integral of the PDF from \n",
    "\\\\(a\\\\) to \\\\(b\\\\).  For a continuous random variable, the probability\n",
    "of a specific outcome is zero: there is zero probability that the\n",
    "exact same outcome occurs twice.  For continuous random variables\n",
    "we only talk about the probability that an outcome occurs within a range.\n",
    "Since we use the term \"probability density,\" the integral over a range\n",
    "is sometimes referred to as a \"probability mass.\"\n",
    "\n",
    "With a discrete random variable, the Probability Mass Function (PMF) assigns \n",
    "a discrete probability mass to each outcome.   The PMF for a binomial\n",
    "random variable defines the probability of observing exactly\n",
    "\\\\(k\\\\) successes in \\\\(n\\\\) Bernoulli trials, where each trial has a \n",
    "success probability of \\\\(p\\\\).  The binomial PMF is\n",
    "\n",
    "$$P(X = k) = \\binom{n}{k} p^k (1-p)^{n-k}$$\n",
    "\n",
    "The *sample proportion* is the percentage of the sample that has an\n",
    "outcome.  For a binomial random variable, which sums the outcomes of \n",
    "\\\\(n\\\\) independent Bernoulli trials, the sample proportion is used\n",
    "to estimate the probability of success (\\\\(p\\\\)) of the underlying \n",
    "Bernoulli random variable.\n",
    "\n",
    "**Problem 4.1** Use matplotlib to create a single plot containing \n",
    "the PMF of a Binomial random variable for \\\\(p=0.5\\\\).  A trial of a \n",
    "binomial random variable involves perfoming \\\\(n\\\\) Bernoulli trials.\n",
    "Perform 1000 binomial trials each of \\\\(n=100\\\\) Bernoulli trials\n",
    "with \\\\(p=0.5\\\\).  Perform each Bernoulli trial using a random\n",
    "number generator.  Plot relative frequency histogram of the\n",
    "Bernoulli trials on the same plot as the PMF of a binomial random \n",
    "variable."
   ]
  },
  {
   "cell_type": "code",
   "execution_count": null,
   "id": "1b875c4b-5fea-4775-a1fa-fc061fc8c0a5",
   "metadata": {},
   "outputs": [],
   "source": [
    "# ANSWER HERE"
   ]
  },
  {
   "cell_type": "markdown",
   "id": "8b4f550d-b90f-44b0-bea1-5c0c89b9e4b0",
   "metadata": {},
   "source": [
    "**Problem 4.2** Repeat Problem 4.1 for \\\\(p=0.2\\\\)."
   ]
  },
  {
   "cell_type": "code",
   "execution_count": null,
   "id": "7d65c1aa-9cb3-4034-9ca1-a9bfa5855477",
   "metadata": {},
   "outputs": [],
   "source": [
    "# ANSWER HERE"
   ]
  },
  {
   "cell_type": "markdown",
   "id": "2188f9c7-bbac-45f1-b85f-4e4c9e1ccc57",
   "metadata": {},
   "source": [
    "**Problem 4.3** Repeat Problem 4.1 for \\\\(p=0.8\\\\)."
   ]
  },
  {
   "cell_type": "code",
   "execution_count": null,
   "id": "574987c9-e035-4dab-bf18-25acaa62613b",
   "metadata": {},
   "outputs": [],
   "source": [
    "# ANSWER HERE"
   ]
  },
  {
   "cell_type": "markdown",
   "id": "c5bb193b-29fc-4014-9a48-fefa872f186c",
   "metadata": {},
   "source": [
    "**Problem 4.4** Using your function implemented for Problem 2,\n",
    "compute the sample skewness of the samples in Problem \\\\(\\xcancel{3.1}\\\\) 4.1."
   ]
  },
  {
   "cell_type": "code",
   "execution_count": null,
   "id": "8bd02d41-a9c6-4bd5-a972-8a9c96f7dce7",
   "metadata": {},
   "outputs": [],
   "source": [
    "# ANSWER HERE"
   ]
  },
  {
   "cell_type": "markdown",
   "id": "cc720ccd-c543-4022-9927-5de39ea6132a",
   "metadata": {},
   "source": [
    "**Problem 4.5** In the same way, compute the sample skewness of the samples \n",
    "in Problem \\\\(\\xcancel{3.2}\\\\) 4.2."
   ]
  },
  {
   "cell_type": "code",
   "execution_count": null,
   "id": "4628738d-6642-42af-bad8-0080dc77c666",
   "metadata": {},
   "outputs": [],
   "source": [
    "# ANSWER HERE"
   ]
  },
  {
   "cell_type": "markdown",
   "id": "41631497-9dcc-4142-9690-96a6e2d3f8b6",
   "metadata": {},
   "source": [
    "**Problem 4.6** In the same way, compute the sample skewness of the samples\n",
    "in Problem \\\\(\\xcancel{3.3}\\\\) 4.3."
   ]
  },
  {
   "cell_type": "code",
   "execution_count": null,
   "id": "fd572120-e731-43f2-a764-fdb711deaf50",
   "metadata": {},
   "outputs": [],
   "source": [
    "# ANSWER HERE"
   ]
  },
  {
   "cell_type": "markdown",
   "id": "276a4f31-d3db-4f31-8033-90beb3f11e39",
   "metadata": {},
   "source": [
    "**Problem 4.7** (original wording) ~~For a binomial distribution with \n",
    "\\\\(n=5\\\\) and \\\\(p=0.2\\\\), simulate drawing 1000 sample sets each of size 5. \n",
    "Plot the sampling distribution of the sample proportion (i.e., the percentage of\n",
    "outcomes with successes).  On the same plot place the PDF of a Gaussian random \n",
    "variable \\\\(N(p, \\sigma/\\sqrt{n})\\\\).   How does the Gaussian PDF relate\n",
    "to computing confidence intervals?  Is the sampling distribution skewed or\n",
    "symmetric?  How does it compare to the original distribution?~~\n",
    "\n",
    "(revised wording and correction of standard deviation) For a binomial distribution with \n",
    "\\\\(n=5\\\\) and \\\\(p=0.2\\\\), simulate drawing 1000 samples of \\\\(X \\sim Bin(n,p)\\\\) and \n",
    "computing the sample proportion .   The distribution of the sample proportion is the\n",
    "sampling distribution of $p$. Plot this sampling distribution.  On the same plot place\n",
    "the PDF of a Gaussian random variable \\\\(N(p, \\sqrt{p(1-p)/n}\\\\).  How does the Gaussian PDF relate\n",
    "to computing confidence intervals?  Is the sampling distribution skewed or\n",
    "symmetric?  How does the Gaussian distribution compare to the distribution of the \n",
    "sample proportion?"
   ]
  },
  {
   "cell_type": "code",
   "execution_count": null,
   "id": "1c5ac53a-1fab-4021-9071-f39cc7cc8dc1",
   "metadata": {},
   "outputs": [],
   "source": [
    "# ANSWER HERE"
   ]
  },
  {
   "cell_type": "markdown",
   "id": "4c0c8a7b-79f5-4510-9988-4765a863efee",
   "metadata": {},
   "source": [
    "**Problem 4.8** For a binomial distribution with \\\\(n=40\\\\) and \\\\(p=0.2\\\\),\n",
    "simulate drawing 1000 sample sets each of size 40.  Plot the sample distribution \n",
    "of the sample proportion.  How does increasing \\\\(n\\\\) affect the skewness of the\n",
    "sampling distribution?"
   ]
  },
  {
   "cell_type": "code",
   "execution_count": null,
   "id": "af2dda17-2787-4555-a072-b570a3b89669",
   "metadata": {},
   "outputs": [],
   "source": [
    "# ANSWER HERE"
   ]
  },
  {
   "cell_type": "markdown",
   "id": "b6730787-aae2-4b78-b445-8369412ccc25",
   "metadata": {},
   "source": [
    "**Problem 4.9** A \\\\(P\\%\\\\) confidence interval for a statistic represents a range\n",
    "within which we expect to find the true value of a population parameter that\n",
    "the statistic estimates. More formally, if we were to repeat the\n",
    "sampling process many times, each time calculating a new confidence\n",
    "interval using the same procedure, we would expect approximately \n",
    "\\\\(P%\\\\) of these intervals to contain the true value of the population parameter. \n",
    "Aside: I used capital \\\\(P\\\\) to distinguish the confidence level \\\\((P)\\\\) from the \\\\(p\\\\) \n",
    "parameter of the binomial distribution."
   ]
  },
  {
   "cell_type": "markdown",
   "id": "dac1b119-f612-45ed-8c9a-390b19f60855",
   "metadata": {},
   "source": [
    "For a binomial distribution with \\\\(n=5\\\\) and \\\\(p=0.2\\\\) construct \n",
    "1000 50% confidence intervals making the Gaussian assumption about the sampling \n",
    "distribution of the sample proportion.  Output the first 10 such \n",
    "confidence intervals.   Over the entire 1000 intervals, what fraction of the confidence\n",
    "intervals contained \\\\(p\\\\)?\n",
    "\n",
    "Aside: More typical confidence levels would be 95% or 99%.  I use 50% to demonstrate\n",
    "a larger fraction of the true values of \\\\(p\\\\) lying outside the confidence interval."
   ]
  },
  {
   "cell_type": "code",
   "execution_count": null,
   "id": "b0fa228a-29bf-4ca5-b9c9-ef8669a2aedb",
   "metadata": {},
   "outputs": [],
   "source": [
    "# ANSWER HERE"
   ]
  },
  {
   "cell_type": "markdown",
   "id": "0a4c06ab-87a9-413a-adf8-9b9f59dac42c",
   "metadata": {},
   "source": [
    "**Problem 4.10** Repeat 4.9 but use Student's t distribution rather than the \n",
    "Gaussian distribution to compute the confidence interval of the \n",
    "sampling distribution of the sample proportion.  Output the first 10 such \n",
    "confidence intervals.  What percentage\n",
    "of the 1000 confidence intervals contained \\\\(p\\\\)?"
   ]
  },
  {
   "cell_type": "code",
   "execution_count": null,
   "id": "7813b495-057f-4e89-8a59-e6bc7f01c170",
   "metadata": {},
   "outputs": [],
   "source": [
    "# ANSWER HERE"
   ]
  },
  {
   "cell_type": "markdown",
   "id": "2a8bfeaf-04d2-4620-b813-bf665b0fe3ec",
   "metadata": {},
   "source": [
    "**Problem 4.11** Repeat 4.9 but with \\\\(n=40\\\\) and \\\\(p=0.2\\\\) construct\n",
    "1000 50% confidence intervals making the Gaussian assumption about the sample \n",
    "distribution of the sample proportion.  Output the first 10 such \n",
    "confidence intervals.  What percentage of the 1000 confidence\n",
    "intervals include \\\\(p\\\\)? "
   ]
  },
  {
   "cell_type": "code",
   "execution_count": null,
   "id": "9c599676-a538-46b8-95b5-b04630e8f635",
   "metadata": {},
   "outputs": [],
   "source": [
    "# ANSWER HERE"
   ]
  },
  {
   "cell_type": "markdown",
   "id": "4478800e-fa7f-4a73-9f51-70baab321f69",
   "metadata": {},
   "source": [
    "**Problem 4.12** What is the \\\\(n=30\\\\) rule of thumb for confidence\n",
    "intervals?  Does it seem to apply for 4.10?  Is 40 enough for \n",
    "approximately 50% of the confidence intervals to include \\\\(p\\\\)?"
   ]
  },
  {
   "cell_type": "code",
   "execution_count": null,
   "id": "1ccee365-3f65-4ce9-8bf0-c958831ed799",
   "metadata": {},
   "outputs": [],
   "source": [
    "# ANSWER HERE"
   ]
  },
  {
   "cell_type": "markdown",
   "id": "d19a9882-75ff-4004-95c1-77c9242b2d4b",
   "metadata": {},
   "source": [
    "**Problem 4.13** Repeat 4.9 for a binomial distribution with \\\\(n=5\\\\)\n",
    "and \\\\(p=0.5\\\\).  Did more confidence intervals contain \\\\(p\\\\)?\n",
    "Why?"
   ]
  },
  {
   "cell_type": "code",
   "execution_count": null,
   "id": "bdffc3c8-07ac-4fa2-a668-6120a465d3e8",
   "metadata": {},
   "outputs": [],
   "source": [
    "# ANSWER HERE"
   ]
  },
  {
   "cell_type": "markdown",
   "id": "c1b44193-f253-4348-bdfe-843621159440",
   "metadata": {},
   "source": [
    "**Problem 4.14** Repeat 4.10 for a binomial distribution with \\\\(n=5\\\\)\n",
    "and \\\\(p=0.5\\\\).  "
   ]
  },
  {
   "cell_type": "code",
   "execution_count": null,
   "id": "114e8f34-078d-4728-8c57-8cba43130020",
   "metadata": {},
   "outputs": [],
   "source": [
    "# ANSWER HERE"
   ]
  },
  {
   "cell_type": "markdown",
   "id": "1534611d-cfb0-4057-b638-f2d95eacba2d",
   "metadata": {},
   "source": [
    "**Problem 4.15** Repeat 4.11 for a binomial distribution with \\\\(n=40\\\\)\n",
    "and \\\\(p=0.5\\\\).\n",
    " "
   ]
  },
  {
   "cell_type": "code",
   "execution_count": 6,
   "id": "cd1e5637-d646-490c-8925-c469c139becb",
   "metadata": {},
   "outputs": [],
   "source": [
    "# ANSWER HERE"
   ]
  }
 ],
 "metadata": {
  "kernelspec": {
   "display_name": "Python 3 (ipykernel)",
   "language": "python",
   "name": "python3"
  },
  "language_info": {
   "codemirror_mode": {
    "name": "ipython",
    "version": 3
   },
   "file_extension": ".py",
   "mimetype": "text/x-python",
   "name": "python",
   "nbconvert_exporter": "python",
   "pygments_lexer": "ipython3",
   "version": "3.11.7"
  }
 },
 "nbformat": 4,
 "nbformat_minor": 5
}
